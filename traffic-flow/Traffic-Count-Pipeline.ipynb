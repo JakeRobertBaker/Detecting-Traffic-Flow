{
 "cells": [
  {
   "cell_type": "code",
   "execution_count": 1,
   "id": "1f85a422-bafd-4e21-be41-d4d4d121758a",
   "metadata": {},
   "outputs": [],
   "source": [
    "from api import *\n",
    "from collections import defaultdict\n",
    "import os\n",
    "import matplotlib.pyplot as plt\n",
    "import seaborn as sns\n",
    "import numpy as np\n",
    "from sklearn.linear_model import LinearRegression"
   ]
  },
  {
   "cell_type": "code",
   "execution_count": 2,
   "id": "5a00e293-4dae-43be-bdab-8af2b40652db",
   "metadata": {},
   "outputs": [],
   "source": [
    "clean_birmingham_report_df = pd.read_feather('image_time_traffic_reports/clean_birmingham_report_df')\n",
    "clean_manc_report_df = pd.read_feather('image_time_traffic_reports/clean_manc_report_df')\n",
    "clean_cam_report_df = pd.read_feather('image_time_traffic_reports/clean_cam_report_df')\n",
    "clean_thorpe_report_df = pd.read_feather('image_time_traffic_reports/clean_thorpe_report_df')\n",
    "clean_epping_report_df = pd.read_feather('image_time_traffic_reports/clean_epping_report_df')\n",
    "clean_bristol_df = pd.read_feather('image_time_traffic_reports/clean_bristol_df')\n",
    "clean_train_report_df = pd.concat([clean_birmingham_report_df, clean_manc_report_df, clean_cam_report_df, clean_thorpe_report_df, clean_epping_report_df, clean_bristol_df]).reset_index(drop = True)\n",
    "del clean_birmingham_report_df, clean_manc_report_df, clean_cam_report_df, clean_thorpe_report_df, clean_epping_report_df, clean_bristol_df"
   ]
  },
  {
   "cell_type": "code",
   "execution_count": 3,
   "id": "048a7ce0-1149-4309-b22b-5921f8641520",
   "metadata": {},
   "outputs": [],
   "source": [
    "# Import these reports\n",
    "def traffic_count_pipeline(road_lengths, pickle_folder, single_lane = True, guess_speed = False):\n",
    "\n",
    "    clean_birmingham_report_df = pd.read_feather('image_time_traffic_reports/clean_birmingham_report_df')\n",
    "    clean_manc_report_df = pd.read_feather('image_time_traffic_reports/clean_manc_report_df')\n",
    "    clean_cam_report_df = pd.read_feather('image_time_traffic_reports/clean_cam_report_df')\n",
    "    clean_thorpe_report_df = pd.read_feather('image_time_traffic_reports/clean_thorpe_report_df')\n",
    "    clean_epping_report_df = pd.read_feather('image_time_traffic_reports/clean_epping_report_df')\n",
    "    clean_bristol_df = pd.read_feather('image_time_traffic_reports/clean_bristol_df')\n",
    "\n",
    "    import copy\n",
    "    traffc_data_england = copy.copy(road_lengths)\n",
    "    # Combine the traffic reports together\n",
    "    clean_train_report_df = pd.concat([clean_birmingham_report_df, clean_manc_report_df, clean_cam_report_df, clean_thorpe_report_df, clean_epping_report_df, clean_bristol_df]).reset_index(drop = True)\n",
    "\n",
    "\n",
    "    sites = []\n",
    "    for x in list(traffc_data_england.sites):\n",
    "        sites = sites + x.split(', ')\n",
    "\n",
    "    # Filter down onto those sites and columns we want\n",
    "    clean_cols = ['site_name','site_id','report_date','time_period_ending','time_interval',\n",
    "                  '0-520cm','521-660cm','661-1160cm','1160+cm','avg_mph','total_volume','timestamp']\n",
    "    filtered_train_report = clean_train_report_df[clean_cols][clean_train_report_df.site_id.isin(sites)]\n",
    "    \n",
    "    if guess_speed:\n",
    "        filtered_train_report.loc[:,'avg_mph'] = '56'\n",
    "\n",
    "    # For a particular row x in traffc_data_england get the correspoiding traffic data\n",
    "    def area_report(x):\n",
    "        sites = x.sites.split(', ')\n",
    "        day, month, year = x.ddmmyy.split('/')\n",
    "        hour, minute  = x.time.split(':')\n",
    "\n",
    "        # Get the nearest of the 15 minute intervals to compare to\n",
    "        min_mod_15 = round((int(minute)+1)/15)\n",
    "        nearest_minute_interval = 15*min_mod_15 - 1\n",
    "        time = datetime.datetime(int(year),int(month),int(day), int(hour), int(nearest_minute_interval))\n",
    "        x_report = filtered_train_report[(filtered_train_report.site_id.isin(sites)) & (filtered_train_report.timestamp == time)]\n",
    "        return x_report\n",
    "\n",
    "    # Add the reports to the dataframe\n",
    "    traffc_data_england['report'] = traffc_data_england.apply(area_report, axis=1)\n",
    "    # Extract values from the report\n",
    "    if single_lane:\n",
    "        # We take the mean because the traffic sites for each segment are in series\n",
    "        traffc_data_england['0-520cm'] = traffc_data_england.apply(lambda x: x.report['0-520cm'].mean(), axis=1)\n",
    "        traffc_data_england['521-660cm'] = traffc_data_england.apply(lambda x: x.report['521-660cm'].mean(), axis=1)\n",
    "        traffc_data_england['661-1160cm'] = traffc_data_england.apply(lambda x: x.report['661-1160cm'].mean(), axis=1)\n",
    "        traffc_data_england['1160+cm'] = traffc_data_england.apply(lambda x: x.report['1160+cm'].mean(), axis=1)\n",
    "        traffc_data_england['total_volume'] = traffc_data_england.apply(lambda x: x.report['total_volume'].mean(), axis=1)\n",
    "        traffc_data_england['avg_mph'] = traffc_data_england.apply(lambda x: x.report.avg_mph.astype(int).mean(), axis=1)\n",
    "    else:\n",
    "        traffc_data_england['0-520cm'] = traffc_data_england.apply(lambda x: x.report['0-520cm'].sum(), axis=1)\n",
    "        traffc_data_england['521-660cm'] = traffc_data_england.apply(lambda x: x.report['521-660cm'].sum(), axis=1)\n",
    "        traffc_data_england['661-1160cm'] = traffc_data_england.apply(lambda x: x.report['661-1160cm'].sum(), axis=1)\n",
    "        traffc_data_england['1160+cm'] = traffc_data_england.apply(lambda x: x.report['1160+cm'].sum(), axis=1)\n",
    "        traffc_data_england['total_volume'] = traffc_data_england.apply(lambda x: x.report['total_volume'].sum(), axis=1)\n",
    "        traffc_data_england['avg_mph'] = traffc_data_england.apply(lambda x: x.report.avg_mph.astype(int).mean(), axis=1)\n",
    "\n",
    "    def predict_traffic_from_detector(data, threshold, pickle_folder):\n",
    "\n",
    "        traffic_data = copy.copy(data)\n",
    "        # Initially set the column names so they agree with the names in the pickle files\n",
    "        detections = pd.DataFrame(\n",
    "           {\n",
    "               \"filename\": [],\n",
    "               \"small_car_detections\": [],\n",
    "               \"bus_detections\": [],\n",
    "               \"pickup_truck_detections\": [],\n",
    "               \"utility_truck_detections\": [],\n",
    "               \"truck_detections\": [],\n",
    "               \"cargo_truck_detections\": [],\n",
    "               \"truck_w_box_detections\": [],\n",
    "               \"truck_tractor_detections\": [],\n",
    "               \"trailer_detections\": [],\n",
    "               \"truck_w_flatbed_detections\": [],\n",
    "               \"truck_w_liquid_detections\": [],\n",
    "               \"all_vehicle_detections\": [],\n",
    "\n",
    "           }\n",
    "        )\n",
    "\n",
    "        # Import the predictions the pickle files\n",
    "        prediction_lists = defaultdict()\n",
    "\n",
    "        for i, file in enumerate(os.listdir(pickle_folder)):\n",
    "            with (open(os.path.join(pickle_folder, file), \"rb\")) as f:\n",
    "                prediction_list = pickle.load(f)\n",
    "            filename = file.split('.')[0]\n",
    "            prediction_lists[filename] = prediction_list\n",
    "            counts = defaultdict(int)\n",
    "            for pred in prediction_list:\n",
    "                if pred.score.value > threshold:\n",
    "                    counts[pred.category.name] +=1\n",
    "\n",
    "            detections.loc[i] = [filename, \n",
    "                         counts[\"Small Car\"],\n",
    "                         counts[\"Bus\"],\n",
    "                         counts[\"Pickup Truck\"],\n",
    "                         counts[\"Utility Truck\"],\n",
    "                         counts[\"Truck\"],\n",
    "                         counts[\"Cargo Truck\"],\n",
    "                         counts[\"Truck w/Box\"],\n",
    "                         counts[\"Truck Tractor\"],\n",
    "                         counts[\"Trailer\"],\n",
    "                         counts[\"Truck w/Flatbed\"],\n",
    "                         counts[\"Truck w/Liquid\"],\n",
    "                         sum([x for x in counts.values()])]\n",
    "\n",
    "        # combine the reports    \n",
    "        def detection_report(x):\n",
    "            detections_report = detections[detections.filename == x.filename]\n",
    "            return detections_report\n",
    "\n",
    "        traffic_data['det_report'] = traffic_data.apply(detection_report, axis=1)\n",
    "\n",
    "        # get the detection numbers\n",
    "        traffic_data['small_car_detections'] = traffic_data.apply(lambda x: x.det_report.small_car_detections.sum(), axis=1)\n",
    "        traffic_data['bus_detections'] = traffic_data.apply(lambda x: x.det_report.bus_detections.sum(), axis=1)\n",
    "        traffic_data['pickup_truck_detections'] = traffic_data.apply(lambda x: x.det_report.pickup_truck_detections.sum(), axis=1)\n",
    "        traffic_data['utility_truck_detections'] = traffic_data.apply(lambda x: x.det_report.utility_truck_detections.sum(), axis=1)\n",
    "        traffic_data['truck_detections'] = traffic_data.apply(lambda x: x.det_report.truck_detections.sum(), axis=1)\n",
    "        traffic_data['cargo_truck_detections'] = traffic_data.apply(lambda x: x.det_report.cargo_truck_detections.sum(), axis=1)\n",
    "        traffic_data['truck_w_box_detections'] = traffic_data.apply(lambda x: x.det_report.truck_w_box_detections.sum(), axis=1)\n",
    "        traffic_data['truck_tractor_detections'] = traffic_data.apply(lambda x: x.det_report.truck_tractor_detections.sum(), axis=1)\n",
    "        traffic_data['trailer_detections'] = traffic_data.apply(lambda x: x.det_report.trailer_detections.sum(), axis=1)\n",
    "        traffic_data['truck_w_flatbed_detections'] = traffic_data.apply(lambda x: x.det_report.truck_w_flatbed_detections.sum(), axis=1)\n",
    "        traffic_data['truck_w_liquid_detections'] = traffic_data.apply(lambda x: x.det_report.truck_w_liquid_detections.sum(), axis=1)\n",
    "        traffic_data['all_vehicle_detections'] = traffic_data.apply(lambda x: x.det_report.all_vehicle_detections.sum(), axis=1)\n",
    "\n",
    "        # Predict the traffic count from these detections via raodlength and avg speed\n",
    "        traffic_data['length_milles'] = traffic_data.length.apply(lambda x: x/1000 *5/8)\n",
    "        if single_lane:\n",
    "            # If we are looking at single lanes then the length is correct\n",
    "            traffic_data['time_to_cross_hour'] = traffic_data.apply(lambda x : x.length_milles/x.avg_mph , axis=1)\n",
    "        else:\n",
    "            # If we are looking at double lanes we need to hald the length to get the average length.\n",
    "            traffic_data['time_to_cross_hour'] = traffic_data.apply(lambda x : x.length_milles/x.avg_mph * 1/2 , axis=1)\n",
    "        \n",
    "        traffic_data['time_to_cross_min'] = traffic_data.apply(lambda x : x.time_to_cross_hour * 60 , axis=1)\n",
    "\n",
    "        detection_cols = ['small_car_detections',\n",
    "         'bus_detections',\n",
    "         'pickup_truck_detections',\n",
    "         'utility_truck_detections',\n",
    "         'truck_detections',\n",
    "         'cargo_truck_detections',\n",
    "         'truck_w_box_detections',\n",
    "         'truck_tractor_detections',\n",
    "         'trailer_detections',\n",
    "         'truck_w_flatbed_detections',\n",
    "         'truck_w_liquid_detections',\n",
    "         'all_vehicle_detections']\n",
    "\n",
    "        for col in detection_cols:\n",
    "            pred_col = col.replace('detections', 'pred')\n",
    "            traffic_data[pred_col] = traffic_data[col] * 15 / traffic_data['time_to_cross_min']\n",
    "\n",
    "        return traffic_data\n",
    "    \n",
    "    traffic_data_yolov5 = predict_traffic_from_detector(traffc_data_england, 0.15, pickle_folder)\n",
    "    return traffic_data_yolov5"
   ]
  },
  {
   "cell_type": "code",
   "execution_count": 4,
   "id": "84c33f05-22bd-473a-9fd7-1c5d8e7f1360",
   "metadata": {},
   "outputs": [],
   "source": [
    "def plot_relative_error(plot_data , name = 'relative_errors-single-lane' ):\n",
    "    plot_data['percent_error'] = (plot_data.all_vehicle_pred.values - plot_data.total_volume.values) / plot_data.total_volume.values\n",
    "\n",
    "    fig, ax = plt.subplots()\n",
    "    \n",
    "    graph = sns.barplot(x=\"filename\", y=\"percent_error\", hue=\"area\", data=plot_data, ax=ax, palette = palette, hue_order = unique)\n",
    "    #ax.axhline(plot_data.percent_error.mean(), color='black', alpha=0.5)\n",
    "    ax.axhline(0, color='black', alpha = 0.8)    \n",
    "    lgd = ax.legend(bbox_to_anchor= (1,1))\n",
    "    #ax.text(39.8, plot_data.percent_error.mean(), f'Mean Relative Error = {int(100*plot_data.percent_error.mean())}%', va='center')\n",
    "\n",
    "    plt.ylabel('Relative Error in Traffic Count Prediction')\n",
    "    plt.xlabel('Image')\n",
    "\n",
    "    labels = [item.get_text() for item in ax.get_xticklabels()]\n",
    "    ax.set_xticks([])\n",
    "    ax.set_ylim([-1, 3])\n",
    "\n",
    "\n",
    "\n",
    "    # taken from https://stackoverflow.com/questions/34888058/changing-width-of-bars-in-bar-chart-created-using-seaborn-factorplot \n",
    "    def change_width(ax, new_value) :\n",
    "        for patch in ax.patches :\n",
    "            current_width = patch.get_width()\n",
    "            diff = current_width - new_value\n",
    "\n",
    "            # we change the bar width\n",
    "            patch.set_width(new_value)\n",
    "\n",
    "            # we recenter the bar\n",
    "            patch.set_x(patch.get_x() + diff * .5)\n",
    "\n",
    "    change_width(ax, .35)\n",
    "\n",
    "    plt.savefig(name, bbox_extra_artists=(lgd,), bbox_inches='tight', dpi=300)\n",
    "    plt.show()\n",
    "\n",
    "    print(f\"max rel error {plot_data.percent_error.max()}, \\nmin rel error {plot_data.percent_error.min()}, \\nmean rel error {plot_data.percent_error.mean()}\")"
   ]
  },
  {
   "cell_type": "code",
   "execution_count": 5,
   "id": "d46cb73c-853f-443d-9718-d0018c06695b",
   "metadata": {},
   "outputs": [],
   "source": [
    "def plot_error(plot_data, name = 'relative_errors-single-lane'):\n",
    "    plot_data['error'] = plot_data.all_vehicle_pred.values - plot_data.total_volume.values\n",
    "\n",
    "    fig, ax = plt.subplots()\n",
    "\n",
    "    graph = sns.barplot(x=\"filename\", y=\"error\", hue=\"area\", data=plot_data, ax=ax, palette = palette, hue_order = unique)\n",
    "    ax.axhline(plot_data.error.mean(), color='black', alpha=0.5)\n",
    "    ax.axhline(0, color='black', alpha = 0.8)    \n",
    "    lgd = ax.legend(bbox_to_anchor= (1,1))\n",
    "    ax.text(39.8, plot_data.error.mean(), f'Mean  Error = {int(plot_data.error.mean())}', va='center')\n",
    "\n",
    "    plt.ylabel('Error in Traffic Count Prediction')\n",
    "    plt.xlabel('Image')\n",
    "\n",
    "    labels = [item.get_text() for item in ax.get_xticklabels()]\n",
    "    ax.set_xticks([])\n",
    "\n",
    "    # taken from https://stackoverflow.com/questions/34888058/changing-width-of-bars-in-bar-chart-created-using-seaborn-factorplot \n",
    "    def change_width(ax, new_value) :\n",
    "        for patch in ax.patches :\n",
    "            current_width = patch.get_width()\n",
    "            diff = current_width - new_value\n",
    "\n",
    "            # we change the bar width\n",
    "            patch.set_width(new_value)\n",
    "\n",
    "            # we recenter the bar\n",
    "            patch.set_x(patch.get_x() + diff * .5)\n",
    "\n",
    "    change_width(ax, .35)\n",
    "\n",
    "    plt.savefig(name, bbox_extra_artists=(lgd,), bbox_inches='tight', dpi=300)\n",
    "    plt.show()\n",
    "\n",
    "    print(f\"max error {plot_data.error.max()}, \\nmin error {plot_data.error.min()}, \\nmean rerror {plot_data.error.mean()}\")"
   ]
  },
  {
   "cell_type": "code",
   "execution_count": 6,
   "id": "ce44a204-ab2b-47b5-bd1b-6f4fb1ad8ec9",
   "metadata": {},
   "outputs": [],
   "source": [
    "def plot_actual_vs_predicted(plot_data, name = 'predicted-v-actual'):\n",
    "    fig, ax = plt.subplots(figsize=(5,5))\n",
    "    sns.scatterplot(x='all_vehicle_pred', y='total_volume', hue='area', data=plot_data, ax=ax, palette = palette)\n",
    "\n",
    "    lims = [\n",
    "        np.min([ax.get_xlim(), ax.get_ylim()]),  # min of both axes\n",
    "        np.max([ax.get_xlim(), ax.get_ylim()]),  # max of both axes\n",
    "    ]\n",
    "    # now plot both limits against eachother\n",
    "    plt.plot(lims, lims, 'k-', alpha=0.5)\n",
    "    plt.xlabel('Predicted Traffic Count')\n",
    "    plt.ylabel('Actual Traffic Count')\n",
    "    \n",
    "    plt.savefig(name, bbox_inches='tight', dpi=300)\n",
    "    plt.show()\n",
    "\n",
    "    mse = ((plot_data.total_volume.values - plot_data.all_vehicle_pred.values)**2).sum()/len(plot_data)\n",
    "    mae = np.absolute(plot_data.total_volume.values - plot_data.all_vehicle_pred.values).mean()\n",
    "    mape = np.absolute(((plot_data.total_volume.values - plot_data.all_vehicle_pred.values) / plot_data.total_volume.values)).mean()\n",
    "    \n",
    "    x = plot_data.total_volume.values.reshape(-1,1)\n",
    "    y = plot_data.all_vehicle_pred.values.reshape(-1,1)\n",
    "    reg = LinearRegression().fit(x, y)\n",
    "    r2 = reg.score(x, y)\n",
    "    \n",
    "    \n",
    "    print(f\"rmse {mse**0.5}, mae {mae}, mape {mape}, R2 {r2}\")"
   ]
  },
  {
   "cell_type": "markdown",
   "id": "4a70432e-22a0-4891-8730-bcf637f2365e",
   "metadata": {},
   "source": [
    "## Separate Directions Pipeline"
   ]
  },
  {
   "cell_type": "code",
   "execution_count": 7,
   "id": "951826e9-953d-433d-9abb-233ce22ccdb1",
   "metadata": {},
   "outputs": [
    {
     "data": {
      "image/png": "[encoded data removed]",
      "text/plain": [
       "<Figure size 360x360 with 1 Axes>"
      ]
     },
     "metadata": {
      "needs_background": "light"
     },
     "output_type": "display_data"
    },
    {
     "name": "stdout",
     "output_type": "stream",
     "text": [
      "rmse 247.66000590639155, mae 190.9496938849907, mape 0.23918467316452457, R2 0.660939194824133\n"
     ]
    }
   ],
   "source": [
    "road_lengths = pd.read_csv('road_lengths_single_lane-fixed-time.csv') \n",
    "pickle_folder = '../inference/results/single-lane-yolov5/pickles'\n",
    "\n",
    "traffic_data_yolov5_single_lane = traffic_count_pipeline(road_lengths, pickle_folder, single_lane = True)\n",
    "traffic_data_yolov5_single_lane = traffic_data_yolov5_single_lane[traffic_data_yolov5_single_lane.length > 900]\n",
    "traffic_data_yolov5_single_lane = traffic_data_yolov5_single_lane[traffic_data_yolov5_single_lane.filename != 'epping_MS5_W_3'].reset_index(drop=True)\n",
    "traffic_data_yolov5_single_lane['error'] = traffic_data_yolov5_single_lane.all_vehicle_pred.values - traffic_data_yolov5_single_lane.total_volume.values\n",
    "traffic_data_yolov5_single_lane['percent_error'] = (traffic_data_yolov5_single_lane.all_vehicle_pred.values - traffic_data_yolov5_single_lane.total_volume.values) / traffic_data_yolov5_single_lane.total_volume.values\n",
    "\n",
    "unique = traffic_data_yolov5_single_lane[\"area\"].unique()\n",
    "palette = dict(zip(unique, sns.color_palette(n_colors=len(unique))))\n",
    "\n",
    "plot_actual_vs_predicted(traffic_data_yolov5_single_lane, name  = 'Images/actual-predicted--SD')"
   ]
  },
  {
   "cell_type": "code",
   "execution_count": 8,
   "id": "f379c369-a346-4783-870b-940aed5c55fc",
   "metadata": {},
   "outputs": [
    {
     "data": {
      "image/png": "[encoded data removed]",
      "text/plain": [
       "<Figure size 432x288 with 1 Axes>"
      ]
     },
     "metadata": {
      "needs_background": "light"
     },
     "output_type": "display_data"
    },
    {
     "name": "stdout",
     "output_type": "stream",
     "text": [
      "max error 85.52964203383937, \n",
      "min error -573.4995734991053, \n",
      "mean rerror -180.2374031888642\n"
     ]
    }
   ],
   "source": [
    "plot_error(traffic_data_yolov5_single_lane, name = 'Images/errors--SD')"
   ]
  },
  {
   "cell_type": "code",
   "execution_count": 9,
   "id": "fae108f2-8cab-40e3-9773-36be9cb15dfc",
   "metadata": {},
   "outputs": [
    {
     "data": {
      "image/png": "[encoded data removed]",
      "text/plain": [
       "<Figure size 432x288 with 1 Axes>"
      ]
     },
     "metadata": {
      "needs_background": "light"
     },
     "output_type": "display_data"
    },
    {
     "name": "stdout",
     "output_type": "stream",
     "text": [
      "max rel error 0.3191404553501469, \n",
      "min rel error -0.5941007345894315, \n",
      "mean rel error -0.21169845887328115\n"
     ]
    }
   ],
   "source": [
    "plot_relative_error(traffic_data_yolov5_single_lane, name = 'Images/rel-errors--SD')"
   ]
  },
  {
   "cell_type": "markdown",
   "id": "4dbcf7a2-497a-48d1-bee3-5bf6a4fcc876",
   "metadata": {},
   "source": [
    "### Bad Speed Data"
   ]
  },
  {
   "cell_type": "code",
   "execution_count": 10,
   "id": "c5f61bbe-51f3-43f7-a060-32506c02657f",
   "metadata": {},
   "outputs": [
    {
     "data": {
      "image/png": "[encoded data removed]",
      "text/plain": [
       "<Figure size 360x360 with 1 Axes>"
      ]
     },
     "metadata": {
      "needs_background": "light"
     },
     "output_type": "display_data"
    },
    {
     "name": "stdout",
     "output_type": "stream",
     "text": [
      "rmse 650.07007131894, mae 387.27098432894866, mape 0.4615911767396318, R2 0.14939204094894198\n"
     ]
    }
   ],
   "source": [
    "traffic_data_yolov5_single_lane_bad_speed = traffic_count_pipeline(road_lengths, pickle_folder, single_lane = True, guess_speed= True)\n",
    "traffic_data_yolov5_single_lane_bad_speed = traffic_data_yolov5_single_lane_bad_speed[traffic_data_yolov5_single_lane_bad_speed.length > 900]\n",
    "traffic_data_yolov5_single_lane_bad_speed = traffic_data_yolov5_single_lane_bad_speed[traffic_data_yolov5_single_lane_bad_speed.filename != 'epping_MS5_W_3'].reset_index(drop=True)\n",
    "traffic_data_yolov5_single_lane_bad_speed['error'] = traffic_data_yolov5_single_lane_bad_speed.all_vehicle_pred.values - traffic_data_yolov5_single_lane_bad_speed.total_volume.values\n",
    "traffic_data_yolov5_single_lane_bad_speed['percent_error'] = (traffic_data_yolov5_single_lane_bad_speed.all_vehicle_pred.values - traffic_data_yolov5_single_lane_bad_speed.total_volume.values) / traffic_data_yolov5_single_lane_bad_speed.total_volume.values\n",
    "\n",
    "plot_actual_vs_predicted(traffic_data_yolov5_single_lane_bad_speed, name  = 'Images/actual-predicted--SD-nospeed')"
   ]
  },
  {
   "cell_type": "code",
   "execution_count": 11,
   "id": "7d7862fb-ddd4-4259-9d23-dbd001fcec6d",
   "metadata": {},
   "outputs": [
    {
     "data": {
      "image/png": "[encoded data removed]",
      "text/plain": [
       "<Figure size 432x288 with 1 Axes>"
      ]
     },
     "metadata": {
      "needs_background": "light"
     },
     "output_type": "display_data"
    },
    {
     "name": "stdout",
     "output_type": "stream",
     "text": [
      "max rel error 2.795755231025178, \n",
      "min rel error -0.6705745092320025, \n",
      "mean rel error -0.06139696042365193\n"
     ]
    }
   ],
   "source": [
    "plot_relative_error(traffic_data_yolov5_single_lane_bad_speed, name = 'Images/rel-errors--SD-nospeed')"
   ]
  },
  {
   "cell_type": "markdown",
   "id": "8b4b0f09-2afe-492a-8513-a24173e25f23",
   "metadata": {},
   "source": [
    "## Baseline Pipeline"
   ]
  },
  {
   "cell_type": "code",
   "execution_count": 12,
   "id": "7323e8c9-3d28-4cc2-9706-de60685ec8f0",
   "metadata": {},
   "outputs": [],
   "source": [
    "road_lengths = pd.read_csv('road_lengths-fixed-time.csv') \n",
    "pickle_folder = '../inference/results/double-lane-yolov5/pickles'\n",
    "\n",
    "traffic_data_yolov5_double_lane = traffic_count_pipeline(road_lengths, pickle_folder, single_lane = False)\n",
    "traffic_data_yolov5_double_lane['error'] = traffic_data_yolov5_double_lane.all_vehicle_pred.values - traffic_data_yolov5_double_lane.total_volume.values\n",
    "traffic_data_yolov5_double_lane['percent_error'] = (traffic_data_yolov5_double_lane.all_vehicle_pred.values - traffic_data_yolov5_double_lane.total_volume.values) / traffic_data_yolov5_double_lane.total_volume.values"
   ]
  },
  {
   "cell_type": "code",
   "execution_count": 13,
   "id": "c7ceb786-d257-47ba-88a4-8043f74e648e",
   "metadata": {},
   "outputs": [
    {
     "data": {
      "image/png": "[encoded data removed]",
      "text/plain": [
       "<Figure size 360x360 with 1 Axes>"
      ]
     },
     "metadata": {
      "needs_background": "light"
     },
     "output_type": "display_data"
    },
    {
     "name": "stdout",
     "output_type": "stream",
     "text": [
      "rmse 482.88086298978124, mae 415.6775626477481, mape 0.28649401462153073, R2 0.6497221718488686\n"
     ]
    }
   ],
   "source": [
    "plot_actual_vs_predicted(traffic_data_yolov5_double_lane, name  = 'Images/actual-predicted--BL')"
   ]
  },
  {
   "cell_type": "code",
   "execution_count": 14,
   "id": "7a0f3bcf-841e-4ee4-9a50-1406c324a1f4",
   "metadata": {},
   "outputs": [
    {
     "data": {
      "image/png": "[encoded data removed]",
      "text/plain": [
       "<Figure size 432x288 with 1 Axes>"
      ]
     },
     "metadata": {
      "needs_background": "light"
     },
     "output_type": "display_data"
    },
    {
     "name": "stdout",
     "output_type": "stream",
     "text": [
      "max error 972.5851201006235, \n",
      "min error -652.8953076065452, \n",
      "mean rerror -33.46589412389984\n"
     ]
    }
   ],
   "source": [
    "plot_error(traffic_data_yolov5_double_lane, name = 'Images/errors--BL')"
   ]
  },
  {
   "cell_type": "code",
   "execution_count": 15,
   "id": "e1dd48d3-8e5c-4e21-821b-8b65269a4aab",
   "metadata": {},
   "outputs": [
    {
     "data": {
      "image/png": "[encoded data removed]",
      "text/plain": [
       "<Figure size 432x288 with 1 Axes>"
      ]
     },
     "metadata": {
      "needs_background": "light"
     },
     "output_type": "display_data"
    },
    {
     "name": "stdout",
     "output_type": "stream",
     "text": [
      "max rel error 0.8581893186552397, \n",
      "min rel error -0.4960358757006615, \n",
      "mean rel error -0.018841096637270772\n"
     ]
    }
   ],
   "source": [
    "plot_relative_error(traffic_data_yolov5_double_lane, name = 'Images/rel-errors--BL')"
   ]
  },
  {
   "cell_type": "markdown",
   "id": "023cf8bc-7bec-4e04-9555-98a064d12d24",
   "metadata": {},
   "source": [
    "### Bad Speed Data"
   ]
  },
  {
   "cell_type": "code",
   "execution_count": 16,
   "id": "3fce84df-3319-4a57-aafb-d044a7348317",
   "metadata": {},
   "outputs": [
    {
     "data": {
      "image/png": "[encoded data removed]",
      "text/plain": [
       "<Figure size 360x360 with 1 Axes>"
      ]
     },
     "metadata": {
      "needs_background": "light"
     },
     "output_type": "display_data"
    },
    {
     "name": "stdout",
     "output_type": "stream",
     "text": [
      "rmse 1036.1042604462239, mae 718.0834516277398, mape 0.44226869629072674, R2 0.4538756657509937\n"
     ]
    }
   ],
   "source": [
    "traffic_data_yolov5_double_lane_bad_speed = traffic_count_pipeline(road_lengths, pickle_folder, single_lane = False, guess_speed = True)\n",
    "traffic_data_yolov5_double_lane_bad_speed['error'] = traffic_data_yolov5_double_lane_bad_speed.all_vehicle_pred.values - traffic_data_yolov5_double_lane_bad_speed.total_volume.values\n",
    "traffic_data_yolov5_double_lane_bad_speed['percent_error'] = (traffic_data_yolov5_double_lane_bad_speed.all_vehicle_pred.values - traffic_data_yolov5_double_lane_bad_speed.total_volume.values) / traffic_data_yolov5_double_lane_bad_speed.total_volume.values\n",
    "plot_actual_vs_predicted(traffic_data_yolov5_double_lane_bad_speed, name  = 'Images/actual-predicted--BL-nospeed')"
   ]
  },
  {
   "cell_type": "markdown",
   "id": "5089465a-cd62-4d85-86e3-1f513dc415df",
   "metadata": {},
   "source": [
    "## Save work"
   ]
  },
  {
   "cell_type": "code",
   "execution_count": 24,
   "id": "32e80055-e159-4f76-bb1a-cbbbece4e413",
   "metadata": {},
   "outputs": [],
   "source": [
    "cols_to_keep = ['ddmmyy',\n",
    " 'time',\n",
    " 'area',\n",
    " 'focus',\n",
    " 'length',\n",
    " 'sites',\n",
    " 'filename',\n",
    " '0-520cm',\n",
    " '521-660cm',\n",
    " '661-1160cm',\n",
    " '1160+cm',\n",
    " 'total_volume',\n",
    " 'avg_mph',\n",
    " 'small_car_detections',\n",
    " 'bus_detections',\n",
    " 'pickup_truck_detections',\n",
    " 'utility_truck_detections',\n",
    " 'truck_detections',\n",
    " 'cargo_truck_detections',\n",
    " 'truck_w_box_detections',\n",
    " 'truck_tractor_detections',\n",
    " 'trailer_detections',\n",
    " 'truck_w_flatbed_detections',\n",
    " 'truck_w_liquid_detections',\n",
    " 'all_vehicle_detections',\n",
    " 'length_milles',\n",
    " 'time_to_cross_hour',\n",
    " 'time_to_cross_min',\n",
    " 'small_car_pred',\n",
    " 'bus_pred',\n",
    " 'pickup_truck_pred',\n",
    " 'utility_truck_pred',\n",
    " 'truck_pred',\n",
    " 'cargo_truck_pred',\n",
    " 'truck_w_box_pred',\n",
    " 'truck_tractor_pred',\n",
    " 'trailer_pred',\n",
    " 'truck_w_flatbed_pred',\n",
    " 'truck_w_liquid_pred',\n",
    " 'all_vehicle_pred']"
   ]
  },
  {
   "cell_type": "code",
   "execution_count": 26,
   "id": "25e8414b-893d-4b90-92f5-0c4b5abea07b",
   "metadata": {},
   "outputs": [],
   "source": [
    "traffic_data_yolov5_single_lane[cols_to_keep].to_feather('predictions/traffic-counts/yolov5-SD')"
   ]
  },
  {
   "cell_type": "markdown",
   "id": "9c06ebc4-a57a-4c3d-8ce5-c1b314aab210",
   "metadata": {
    "tags": []
   },
   "source": [
    "# Error Analysis"
   ]
  },
  {
   "cell_type": "markdown",
   "id": "500facbd-4b5c-4792-a57e-c4a490e00a06",
   "metadata": {
    "tags": []
   },
   "source": [
    "### Inspect Examples"
   ]
  },
  {
   "cell_type": "raw",
   "id": "7fd97b80-19db-49bc-ac99-f540a8487f63",
   "metadata": {},
   "source": [
    "time = datetime.datetime(2020,8,8,12,14)\n",
    "clean_train_report_df[(clean_train_report_df.site_id.isin(['3071', '3434', '1532', '5545', '4785'])) & (clean_train_report_df.timestamp==time)]"
   ]
  },
  {
   "cell_type": "markdown",
   "id": "e40cddd0-c677-46da-9b45-ed40668a0b5b",
   "metadata": {},
   "source": [
    "## Gridlock"
   ]
  },
  {
   "cell_type": "code",
   "execution_count": 17,
   "id": "7a5ec7fc-31c3-4246-b2f5-660126d38b47",
   "metadata": {},
   "outputs": [
    {
     "data": {
      "text/html": [
       "<div>\n",
       "<style scoped>\n",
       "    .dataframe tbody tr th:only-of-type {\n",
       "        vertical-align: middle;\n",
       "    }\n",
       "\n",
       "    .dataframe tbody tr th {\n",
       "        vertical-align: top;\n",
       "    }\n",
       "\n",
       "    .dataframe thead th {\n",
       "        text-align: right;\n",
       "    }\n",
       "</style>\n",
       "<table border=\"1\" class=\"dataframe\">\n",
       "  <thead>\n",
       "    <tr style=\"text-align: right;\">\n",
       "      <th></th>\n",
       "      <th>filename</th>\n",
       "      <th>avg_mph</th>\n",
       "      <th>error</th>\n",
       "      <th>percent_error</th>\n",
       "    </tr>\n",
       "  </thead>\n",
       "  <tbody>\n",
       "    <tr>\n",
       "      <th>16</th>\n",
       "      <td>M4_bristol</td>\n",
       "      <td>36.0</td>\n",
       "      <td>654.029107</td>\n",
       "      <td>0.347888</td>\n",
       "    </tr>\n",
       "    <tr>\n",
       "      <th>18</th>\n",
       "      <td>M5_bristol</td>\n",
       "      <td>31.5</td>\n",
       "      <td>624.673438</td>\n",
       "      <td>0.410699</td>\n",
       "    </tr>\n",
       "    <tr>\n",
       "      <th>20</th>\n",
       "      <td>M60_1_manchester</td>\n",
       "      <td>37.5</td>\n",
       "      <td>368.261698</td>\n",
       "      <td>0.162876</td>\n",
       "    </tr>\n",
       "    <tr>\n",
       "      <th>21</th>\n",
       "      <td>M60_2_manchester</td>\n",
       "      <td>36.5</td>\n",
       "      <td>972.585120</td>\n",
       "      <td>0.353282</td>\n",
       "    </tr>\n",
       "  </tbody>\n",
       "</table>\n",
       "</div>"
      ],
      "text/plain": [
       "            filename  avg_mph       error  percent_error\n",
       "16        M4_bristol     36.0  654.029107       0.347888\n",
       "18        M5_bristol     31.5  624.673438       0.410699\n",
       "20  M60_1_manchester     37.5  368.261698       0.162876\n",
       "21  M60_2_manchester     36.5  972.585120       0.353282"
      ]
     },
     "execution_count": 17,
     "metadata": {},
     "output_type": "execute_result"
    }
   ],
   "source": [
    "traffic_data_yolov5_double_lane[traffic_data_yolov5_double_lane.avg_mph<40][['filename', 'avg_mph','error','percent_error']]"
   ]
  },
  {
   "cell_type": "code",
   "execution_count": 18,
   "id": "65bb6d94-0ebf-45c1-9196-fd656e3b4488",
   "metadata": {},
   "outputs": [
    {
     "data": {
      "text/html": [
       "<div>\n",
       "<style scoped>\n",
       "    .dataframe tbody tr th:only-of-type {\n",
       "        vertical-align: middle;\n",
       "    }\n",
       "\n",
       "    .dataframe tbody tr th {\n",
       "        vertical-align: top;\n",
       "    }\n",
       "\n",
       "    .dataframe thead th {\n",
       "        text-align: right;\n",
       "    }\n",
       "</style>\n",
       "<table border=\"1\" class=\"dataframe\">\n",
       "  <thead>\n",
       "    <tr style=\"text-align: right;\">\n",
       "      <th></th>\n",
       "      <th>filename</th>\n",
       "      <th>avg_mph</th>\n",
       "      <th>error</th>\n",
       "      <th>percent_error</th>\n",
       "    </tr>\n",
       "  </thead>\n",
       "  <tbody>\n",
       "    <tr>\n",
       "      <th>0</th>\n",
       "      <td>manchester_M60_N_1</td>\n",
       "      <td>11.333333</td>\n",
       "      <td>-214.193772</td>\n",
       "      <td>-0.231811</td>\n",
       "    </tr>\n",
       "    <tr>\n",
       "      <th>1</th>\n",
       "      <td>manchester_M60_N_4</td>\n",
       "      <td>39.500000</td>\n",
       "      <td>-402.222587</td>\n",
       "      <td>-0.393564</td>\n",
       "    </tr>\n",
       "    <tr>\n",
       "      <th>8</th>\n",
       "      <td>bristol_M4_N_1</td>\n",
       "      <td>34.250000</td>\n",
       "      <td>68.172905</td>\n",
       "      <td>0.088364</td>\n",
       "    </tr>\n",
       "    <tr>\n",
       "      <th>9</th>\n",
       "      <td>bristol_M4_N_2</td>\n",
       "      <td>16.000000</td>\n",
       "      <td>-195.272351</td>\n",
       "      <td>-0.206966</td>\n",
       "    </tr>\n",
       "    <tr>\n",
       "      <th>12</th>\n",
       "      <td>bristol_M5_W_1</td>\n",
       "      <td>17.600000</td>\n",
       "      <td>26.914562</td>\n",
       "      <td>0.030227</td>\n",
       "    </tr>\n",
       "  </tbody>\n",
       "</table>\n",
       "</div>"
      ],
      "text/plain": [
       "              filename    avg_mph       error  percent_error\n",
       "0   manchester_M60_N_1  11.333333 -214.193772      -0.231811\n",
       "1   manchester_M60_N_4  39.500000 -402.222587      -0.393564\n",
       "8       bristol_M4_N_1  34.250000   68.172905       0.088364\n",
       "9       bristol_M4_N_2  16.000000 -195.272351      -0.206966\n",
       "12      bristol_M5_W_1  17.600000   26.914562       0.030227"
      ]
     },
     "execution_count": 18,
     "metadata": {},
     "output_type": "execute_result"
    }
   ],
   "source": [
    "traffic_data_yolov5_single_lane[traffic_data_yolov5_single_lane.avg_mph < 40][['filename', 'avg_mph','error','percent_error']]"
   ]
  },
  {
   "cell_type": "markdown",
   "id": "4fe2f996-91ca-4404-876a-081c7d425f17",
   "metadata": {},
   "source": [
    "## Bristol"
   ]
  },
  {
   "cell_type": "markdown",
   "id": "e9986f62-7079-4fd8-b52a-cea4c0ffb99e",
   "metadata": {},
   "source": [
    "### M5"
   ]
  },
  {
   "cell_type": "code",
   "execution_count": 19,
   "id": "0e526bea-e1d9-4853-8eb9-573c896b813a",
   "metadata": {},
   "outputs": [
    {
     "data": {
      "text/html": [
       "<div>\n",
       "<style scoped>\n",
       "    .dataframe tbody tr th:only-of-type {\n",
       "        vertical-align: middle;\n",
       "    }\n",
       "\n",
       "    .dataframe tbody tr th {\n",
       "        vertical-align: top;\n",
       "    }\n",
       "\n",
       "    .dataframe thead th {\n",
       "        text-align: right;\n",
       "    }\n",
       "</style>\n",
       "<table border=\"1\" class=\"dataframe\">\n",
       "  <thead>\n",
       "    <tr style=\"text-align: right;\">\n",
       "      <th></th>\n",
       "      <th>filename</th>\n",
       "      <th>avg_mph</th>\n",
       "      <th>error</th>\n",
       "      <th>percent_error</th>\n",
       "    </tr>\n",
       "  </thead>\n",
       "  <tbody>\n",
       "    <tr>\n",
       "      <th>11</th>\n",
       "      <td>bristol_M5_E_1</td>\n",
       "      <td>44.4</td>\n",
       "      <td>-311.284984</td>\n",
       "      <td>-0.468520</td>\n",
       "    </tr>\n",
       "    <tr>\n",
       "      <th>12</th>\n",
       "      <td>bristol_M5_W_1</td>\n",
       "      <td>17.6</td>\n",
       "      <td>26.914562</td>\n",
       "      <td>0.030227</td>\n",
       "    </tr>\n",
       "  </tbody>\n",
       "</table>\n",
       "</div>"
      ],
      "text/plain": [
       "          filename  avg_mph       error  percent_error\n",
       "11  bristol_M5_E_1     44.4 -311.284984      -0.468520\n",
       "12  bristol_M5_W_1     17.6   26.914562       0.030227"
      ]
     },
     "execution_count": 19,
     "metadata": {},
     "output_type": "execute_result"
    }
   ],
   "source": [
    "bristol_M5_gridlock = ['bristol_M5_W_1', 'bristol_M5_E_1']\n",
    "traffic_data_yolov5_single_lane[traffic_data_yolov5_single_lane.filename.isin(bristol_M5_gridlock)][['filename', 'avg_mph','error','percent_error']]"
   ]
  },
  {
   "cell_type": "code",
   "execution_count": 20,
   "id": "3549a639-abe2-4366-aed9-7a7bd0275149",
   "metadata": {},
   "outputs": [
    {
     "data": {
      "text/html": [
       "<div>\n",
       "<style scoped>\n",
       "    .dataframe tbody tr th:only-of-type {\n",
       "        vertical-align: middle;\n",
       "    }\n",
       "\n",
       "    .dataframe tbody tr th {\n",
       "        vertical-align: top;\n",
       "    }\n",
       "\n",
       "    .dataframe thead th {\n",
       "        text-align: right;\n",
       "    }\n",
       "</style>\n",
       "<table border=\"1\" class=\"dataframe\">\n",
       "  <thead>\n",
       "    <tr style=\"text-align: right;\">\n",
       "      <th></th>\n",
       "      <th>filename</th>\n",
       "      <th>avg_mph</th>\n",
       "      <th>error</th>\n",
       "      <th>percent_error</th>\n",
       "    </tr>\n",
       "  </thead>\n",
       "  <tbody>\n",
       "    <tr>\n",
       "      <th>18</th>\n",
       "      <td>M5_bristol</td>\n",
       "      <td>31.5</td>\n",
       "      <td>624.673438</td>\n",
       "      <td>0.410699</td>\n",
       "    </tr>\n",
       "  </tbody>\n",
       "</table>\n",
       "</div>"
      ],
      "text/plain": [
       "      filename  avg_mph       error  percent_error\n",
       "18  M5_bristol     31.5  624.673438       0.410699"
      ]
     },
     "execution_count": 20,
     "metadata": {},
     "output_type": "execute_result"
    }
   ],
   "source": [
    "traffic_data_yolov5_double_lane[traffic_data_yolov5_double_lane.filename == 'M5_bristol'][['filename', 'avg_mph','error','percent_error']]"
   ]
  },
  {
   "cell_type": "markdown",
   "id": "62cb47f2-db0b-435d-ada2-624876b6c2b3",
   "metadata": {},
   "source": [
    "### M4"
   ]
  },
  {
   "cell_type": "code",
   "execution_count": 21,
   "id": "302e520a-3391-4e6a-b958-135f4b33e8b5",
   "metadata": {},
   "outputs": [
    {
     "data": {
      "text/html": [
       "<div>\n",
       "<style scoped>\n",
       "    .dataframe tbody tr th:only-of-type {\n",
       "        vertical-align: middle;\n",
       "    }\n",
       "\n",
       "    .dataframe tbody tr th {\n",
       "        vertical-align: top;\n",
       "    }\n",
       "\n",
       "    .dataframe thead th {\n",
       "        text-align: right;\n",
       "    }\n",
       "</style>\n",
       "<table border=\"1\" class=\"dataframe\">\n",
       "  <thead>\n",
       "    <tr style=\"text-align: right;\">\n",
       "      <th></th>\n",
       "      <th>filename</th>\n",
       "      <th>avg_mph</th>\n",
       "      <th>error</th>\n",
       "      <th>percent_error</th>\n",
       "    </tr>\n",
       "  </thead>\n",
       "  <tbody>\n",
       "    <tr>\n",
       "      <th>9</th>\n",
       "      <td>bristol_M4_N_2</td>\n",
       "      <td>16.000000</td>\n",
       "      <td>-195.272351</td>\n",
       "      <td>-0.206966</td>\n",
       "    </tr>\n",
       "    <tr>\n",
       "      <th>10</th>\n",
       "      <td>bristol_M4_S_2</td>\n",
       "      <td>55.166667</td>\n",
       "      <td>-56.485278</td>\n",
       "      <td>-0.057550</td>\n",
       "    </tr>\n",
       "  </tbody>\n",
       "</table>\n",
       "</div>"
      ],
      "text/plain": [
       "          filename    avg_mph       error  percent_error\n",
       "9   bristol_M4_N_2  16.000000 -195.272351      -0.206966\n",
       "10  bristol_M4_S_2  55.166667  -56.485278      -0.057550"
      ]
     },
     "execution_count": 21,
     "metadata": {},
     "output_type": "execute_result"
    }
   ],
   "source": [
    "bristol_M4_gridlock = ['bristol_M4_N_2', 'bristol_M4_S_2']\n",
    "traffic_data_yolov5_single_lane[traffic_data_yolov5_single_lane.filename.isin(bristol_M4_gridlock)][['filename', 'avg_mph','error','percent_error']]"
   ]
  },
  {
   "cell_type": "code",
   "execution_count": 22,
   "id": "7f6f3b54-f236-42f8-bb32-2866321dd102",
   "metadata": {},
   "outputs": [
    {
     "data": {
      "text/html": [
       "<div>\n",
       "<style scoped>\n",
       "    .dataframe tbody tr th:only-of-type {\n",
       "        vertical-align: middle;\n",
       "    }\n",
       "\n",
       "    .dataframe tbody tr th {\n",
       "        vertical-align: top;\n",
       "    }\n",
       "\n",
       "    .dataframe thead th {\n",
       "        text-align: right;\n",
       "    }\n",
       "</style>\n",
       "<table border=\"1\" class=\"dataframe\">\n",
       "  <thead>\n",
       "    <tr style=\"text-align: right;\">\n",
       "      <th></th>\n",
       "      <th>filename</th>\n",
       "      <th>avg_mph</th>\n",
       "      <th>error</th>\n",
       "      <th>percent_error</th>\n",
       "    </tr>\n",
       "  </thead>\n",
       "  <tbody>\n",
       "    <tr>\n",
       "      <th>16</th>\n",
       "      <td>M4_bristol</td>\n",
       "      <td>36.0</td>\n",
       "      <td>654.029107</td>\n",
       "      <td>0.347888</td>\n",
       "    </tr>\n",
       "  </tbody>\n",
       "</table>\n",
       "</div>"
      ],
      "text/plain": [
       "      filename  avg_mph       error  percent_error\n",
       "16  M4_bristol     36.0  654.029107       0.347888"
      ]
     },
     "execution_count": 22,
     "metadata": {},
     "output_type": "execute_result"
    }
   ],
   "source": [
    "traffic_data_yolov5_double_lane[traffic_data_yolov5_double_lane.filename == 'M4_bristol'][['filename', 'avg_mph','error','percent_error']]"
   ]
  },
  {
   "cell_type": "markdown",
   "id": "965a9722-ad98-4910-955d-4a6c1c4ff5db",
   "metadata": {},
   "source": [
    "### Manchester"
   ]
  },
  {
   "cell_type": "code",
   "execution_count": 23,
   "id": "80dd54a9-a9dc-4866-8f82-9f2e81819683",
   "metadata": {},
   "outputs": [
    {
     "data": {
      "text/html": [
       "<div>\n",
       "<style scoped>\n",
       "    .dataframe tbody tr th:only-of-type {\n",
       "        vertical-align: middle;\n",
       "    }\n",
       "\n",
       "    .dataframe tbody tr th {\n",
       "        vertical-align: top;\n",
       "    }\n",
       "\n",
       "    .dataframe thead th {\n",
       "        text-align: right;\n",
       "    }\n",
       "</style>\n",
       "<table border=\"1\" class=\"dataframe\">\n",
       "  <thead>\n",
       "    <tr style=\"text-align: right;\">\n",
       "      <th></th>\n",
       "      <th>ddmmyy</th>\n",
       "      <th>time</th>\n",
       "      <th>area</th>\n",
       "      <th>focus</th>\n",
       "      <th>length</th>\n",
       "      <th>sites</th>\n",
       "      <th>filename</th>\n",
       "      <th>report</th>\n",
       "      <th>0-520cm</th>\n",
       "      <th>521-660cm</th>\n",
       "      <th>...</th>\n",
       "      <th>truck_pred</th>\n",
       "      <th>cargo_truck_pred</th>\n",
       "      <th>truck_w_box_pred</th>\n",
       "      <th>truck_tractor_pred</th>\n",
       "      <th>trailer_pred</th>\n",
       "      <th>truck_w_flatbed_pred</th>\n",
       "      <th>truck_w_liquid_pred</th>\n",
       "      <th>all_vehicle_pred</th>\n",
       "      <th>error</th>\n",
       "      <th>percent_error</th>\n",
       "    </tr>\n",
       "  </thead>\n",
       "  <tbody>\n",
       "    <tr>\n",
       "      <th>0</th>\n",
       "      <td>19/04/2019</td>\n",
       "      <td>12:48</td>\n",
       "      <td>manchester</td>\n",
       "      <td>M60_N_1</td>\n",
       "      <td>1207.09</td>\n",
       "      <td>17661, 17616, 17597</td>\n",
       "      <td>manchester_M60_N_1</td>\n",
       "      <td>site_name site_id          report_date ...</td>\n",
       "      <td>593.000000</td>\n",
       "      <td>78.000000</td>\n",
       "      <td>...</td>\n",
       "      <td>33.800297</td>\n",
       "      <td>3.755589</td>\n",
       "      <td>0.000000</td>\n",
       "      <td>0.0</td>\n",
       "      <td>0.0</td>\n",
       "      <td>0.0</td>\n",
       "      <td>0.0</td>\n",
       "      <td>709.806228</td>\n",
       "      <td>-214.193772</td>\n",
       "      <td>-0.231811</td>\n",
       "    </tr>\n",
       "    <tr>\n",
       "      <th>9</th>\n",
       "      <td>08/08/2020</td>\n",
       "      <td>12:08</td>\n",
       "      <td>bristol</td>\n",
       "      <td>M4_N_2</td>\n",
       "      <td>2942.42</td>\n",
       "      <td>1382, 2646, 2569, 6041, 1260, 1561</td>\n",
       "      <td>bristol_M4_N_2</td>\n",
       "      <td>site_name site_id          report_date t...</td>\n",
       "      <td>806.666667</td>\n",
       "      <td>75.333333</td>\n",
       "      <td>...</td>\n",
       "      <td>13.050482</td>\n",
       "      <td>8.700322</td>\n",
       "      <td>4.350161</td>\n",
       "      <td>0.0</td>\n",
       "      <td>0.0</td>\n",
       "      <td>0.0</td>\n",
       "      <td>0.0</td>\n",
       "      <td>748.227649</td>\n",
       "      <td>-195.272351</td>\n",
       "      <td>-0.206966</td>\n",
       "    </tr>\n",
       "    <tr>\n",
       "      <th>12</th>\n",
       "      <td>08/08/2020</td>\n",
       "      <td>12:08</td>\n",
       "      <td>bristol</td>\n",
       "      <td>M5_W_1</td>\n",
       "      <td>2079.81</td>\n",
       "      <td>754, 3267, 212, 4139, 430</td>\n",
       "      <td>bristol_M5_W_1</td>\n",
       "      <td>site_name site_id          report_date t...</td>\n",
       "      <td>691.800000</td>\n",
       "      <td>126.800000</td>\n",
       "      <td>...</td>\n",
       "      <td>20.309548</td>\n",
       "      <td>0.000000</td>\n",
       "      <td>0.000000</td>\n",
       "      <td>0.0</td>\n",
       "      <td>0.0</td>\n",
       "      <td>0.0</td>\n",
       "      <td>0.0</td>\n",
       "      <td>917.314562</td>\n",
       "      <td>26.914562</td>\n",
       "      <td>0.030227</td>\n",
       "    </tr>\n",
       "  </tbody>\n",
       "</table>\n",
       "<p>3 rows × 44 columns</p>\n",
       "</div>"
      ],
      "text/plain": [
       "        ddmmyy   time        area    focus   length  \\\n",
       "0   19/04/2019  12:48  manchester  M60_N_1  1207.09   \n",
       "9   08/08/2020  12:08     bristol   M4_N_2  2942.42   \n",
       "12  08/08/2020  12:08     bristol   M5_W_1  2079.81   \n",
       "\n",
       "                                 sites            filename  \\\n",
       "0                  17661, 17616, 17597  manchester_M60_N_1   \n",
       "9   1382, 2646, 2569, 6041, 1260, 1561      bristol_M4_N_2   \n",
       "12           754, 3267, 212, 4139, 430      bristol_M5_W_1   \n",
       "\n",
       "                                               report     0-520cm   521-660cm  \\\n",
       "0          site_name site_id          report_date ...  593.000000   78.000000   \n",
       "9         site_name site_id          report_date t...  806.666667   75.333333   \n",
       "12        site_name site_id          report_date t...  691.800000  126.800000   \n",
       "\n",
       "    ...  truck_pred  cargo_truck_pred  truck_w_box_pred  truck_tractor_pred  \\\n",
       "0   ...   33.800297          3.755589          0.000000                 0.0   \n",
       "9   ...   13.050482          8.700322          4.350161                 0.0   \n",
       "12  ...   20.309548          0.000000          0.000000                 0.0   \n",
       "\n",
       "   trailer_pred  truck_w_flatbed_pred  truck_w_liquid_pred  all_vehicle_pred  \\\n",
       "0           0.0                   0.0                  0.0        709.806228   \n",
       "9           0.0                   0.0                  0.0        748.227649   \n",
       "12          0.0                   0.0                  0.0        917.314562   \n",
       "\n",
       "         error  percent_error  \n",
       "0  -214.193772      -0.231811  \n",
       "9  -195.272351      -0.206966  \n",
       "12   26.914562       0.030227  \n",
       "\n",
       "[3 rows x 44 columns]"
      ]
     },
     "execution_count": 23,
     "metadata": {},
     "output_type": "execute_result"
    }
   ],
   "source": [
    "traffic_data_yolov5_single_lane[traffic_data_yolov5_single_lane.avg_mph < 20]"
   ]
  }
 ],
 "metadata": {
  "kernelspec": {
   "display_name": "Python 3 (ipykernel)",
   "language": "python",
   "name": "python3"
  },
  "language_info": {
   "codemirror_mode": {
    "name": "ipython",
    "version": 3
   },
   "file_extension": ".py",
   "mimetype": "text/x-python",
   "name": "python",
   "nbconvert_exporter": "python",
   "pygments_lexer": "ipython3",
   "version": "3.10.5"
  }
 },
 "nbformat": 4,
 "nbformat_minor": 5
}

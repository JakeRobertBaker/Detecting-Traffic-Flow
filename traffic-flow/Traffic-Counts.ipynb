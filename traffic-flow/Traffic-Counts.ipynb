{
 "cells": [
  {
   "cell_type": "markdown",
   "id": "1b30c578-42a0-4daa-ac0e-bbb4dd72088f",
   "metadata": {},
   "source": [
    "### Imports"
   ]
  },
  {
   "cell_type": "code",
   "execution_count": 2,
   "id": "daf79cfd-e968-414d-9d8f-b52e78447796",
   "metadata": {},
   "outputs": [],
   "source": [
    "from api import *\n",
    "from collections import defaultdict\n",
    "import os"
   ]
  },
  {
   "cell_type": "markdown",
   "id": "64e84989-b1e9-40b1-a738-de245eca0ca6",
   "metadata": {},
   "source": [
    "### Import data"
   ]
  },
  {
   "cell_type": "code",
   "execution_count": 3,
   "id": "10e1009d-2779-4131-8a42-637dd7f5d54a",
   "metadata": {},
   "outputs": [],
   "source": [
    "# Import these reports\n",
    "clean_birmingham_report_df = pd.read_feather('image_time_traffic_reports/clean_birmingham_report_df')\n",
    "clean_manc_report_df = pd.read_feather('image_time_traffic_reports/clean_manc_report_df')\n",
    "clean_cam_report_df = pd.read_feather('image_time_traffic_reports/clean_cam_report_df')\n",
    "clean_thorpe_report_df = pd.read_feather('image_time_traffic_reports/clean_thorpe_report_df')\n",
    "clean_epping_report_df = pd.read_feather('image_time_traffic_reports/clean_epping_report_df')\n",
    "clean_bristol_df = pd.read_feather('image_time_traffic_reports/clean_bristol_df')"
   ]
  },
  {
   "cell_type": "code",
   "execution_count": 4,
   "id": "55728350-ea8f-4e5c-82c1-c9c8d51eca10",
   "metadata": {},
   "outputs": [],
   "source": [
    "import copy\n",
    "road_lengths = pd.read_csv('road_lengths.csv') \n",
    "traffc_data_england = copy.copy(road_lengths)"
   ]
  },
  {
   "cell_type": "code",
   "execution_count": 5,
   "id": "82a0fa1e-4804-476d-9198-25e0fb7b9d71",
   "metadata": {},
   "outputs": [],
   "source": [
    "clean_train_report_df = pd.concat([clean_birmingham_report_df, clean_manc_report_df, clean_cam_report_df, clean_thorpe_report_df, clean_epping_report_df, clean_bristol_df])\n",
    "\n",
    "\n",
    "sites = []\n",
    "for x in list(traffc_data_england.sites):\n",
    "    sites = sites + x.split(', ')\n",
    "    \n",
    "filtered_train_report = clean_train_report_df[['site_name','site_id','report_date','time_period_ending','time_interval','0-520cm','521-660cm','661-1160cm','1160+cm','avg_mph','total_volume','timestamp']][clean_train_report_df.site_id.isin(sites)]"
   ]
  },
  {
   "cell_type": "code",
   "execution_count": 6,
   "id": "896af2b2-134f-4247-a46f-55d2b45661d9",
   "metadata": {},
   "outputs": [],
   "source": [
    "# For a particular row x in road_lengths get the correspoiding traffic data\n",
    "def area_report(x):\n",
    "    sites = x.sites.split(', ')\n",
    "    day, month, year = x.ddmmyy.split('/')\n",
    "    hour, minute  = x.time.split(':')\n",
    "    \n",
    "    # Get the nearest of the 15 minute intervals to compare to\n",
    "    min_mod_15 = round((int(minute)+1)/15)\n",
    "    nearest_minute_interval = 15*min_mod_15 - 1\n",
    "    time = datetime.datetime(int(year),int(month),int(day), int(hour), int(nearest_minute_interval))\n",
    "    x_report = filtered_train_report[(filtered_train_report.site_id.isin(sites)) & (filtered_train_report.timestamp == time)]\n",
    "    return x_report\n",
    "\n",
    "# Add the reports to the dataframe\n",
    "traffc_data_england['report'] = traffc_data_england.apply(area_report, axis=1)\n",
    "# Extract values from the report\n",
    "traffc_data_england['0-520cm'] = traffc_data_england.apply(lambda x: x.report['0-520cm'].sum(), axis=1)\n",
    "traffc_data_england['521-660cm'] = traffc_data_england.apply(lambda x: x.report['521-660cm'].sum(), axis=1)\n",
    "traffc_data_england['661-1160cm'] = traffc_data_england.apply(lambda x: x.report['661-1160cm'].sum(), axis=1)\n",
    "traffc_data_england['1160+cm'] = traffc_data_england.apply(lambda x: x.report['1160+cm'].sum(), axis=1)\n",
    "traffc_data_england['total_volume'] = traffc_data_england.apply(lambda x: x.report['total_volume'].sum(), axis=1)\n",
    "traffc_data_england['avg_mph'] = traffc_data_england.apply(lambda x: x.report.avg_mph.astype(int).mean(), axis=1)"
   ]
  },
  {
   "cell_type": "code",
   "execution_count": 7,
   "id": "85599b30-3eac-4917-b0b2-31f733bf7c10",
   "metadata": {},
   "outputs": [],
   "source": [
    "def predict_traffic_from_detector(data, threshold, pickle_folder):\n",
    "    \n",
    "    traffic_data = copy.copy(data)\n",
    "    # Initially set the column names so they agree with the names in the pickle files\n",
    "    detections = pd.DataFrame(\n",
    "       {\n",
    "           \"filename\": [],\n",
    "           \"small_car_detections\": [],\n",
    "           \"bus_detections\": [],\n",
    "           \"pickup_truck_detections\": [],\n",
    "           \"utility_truck_detections\": [],\n",
    "           \"truck_detections\": [],\n",
    "           \"cargo_truck_detections\": [],\n",
    "           \"truck_w_box_detections\": [],\n",
    "           \"truck_tractor_detections\": [],\n",
    "           \"trailer_detections\": [],\n",
    "           \"truck_w_flatbed_detections\": [],\n",
    "           \"truck_w_liquid_detections\": [],\n",
    "           \"all_vehicle_detections\": [],\n",
    "\n",
    "       }\n",
    "    )\n",
    "\n",
    "    # Import the predictions the pickle files\n",
    "    prediction_lists = defaultdict()\n",
    "\n",
    "    for i, file in enumerate(os.listdir(pickle_folder)):\n",
    "        with (open(os.path.join(pickle_folder, file), \"rb\")) as f:\n",
    "            prediction_list = pickle.load(f)\n",
    "        filename = file.split('.')[0]\n",
    "        prediction_lists[filename] = prediction_list\n",
    "        counts = defaultdict(int)\n",
    "        for pred in prediction_list:\n",
    "            if pred.score.value > threshold:\n",
    "                counts[pred.category.name] +=1\n",
    "\n",
    "        detections.loc[i] = [filename, \n",
    "                     counts[\"Small Car\"],\n",
    "                     counts[\"Bus\"],\n",
    "                     counts[\"Pickup Truck\"],\n",
    "                     counts[\"Utility Truck\"],\n",
    "                     counts[\"Truck\"],\n",
    "                     counts[\"Cargo Truck\"],\n",
    "                     counts[\"Truck w/Box\"],\n",
    "                     counts[\"Truck Tractor\"],\n",
    "                     counts[\"Trailer\"],\n",
    "                     counts[\"Truck w/Flatbed\"],\n",
    "                     counts[\"Truck w/Liquid\"],\n",
    "                     sum([x for x in counts.values()])]\n",
    "        \n",
    "    # combine the reports    \n",
    "    def detection_report(x):\n",
    "        detections_report = detections[detections.filename == x.filename]\n",
    "        return detections_report\n",
    "    \n",
    "    traffic_data['det_report'] = traffic_data.apply(detection_report, axis=1)\n",
    "    \n",
    "    # get the detection numbers\n",
    "    traffic_data['small_car_detections'] = traffic_data.apply(lambda x: x.det_report.small_car_detections.sum(), axis=1)\n",
    "    traffic_data['bus_detections'] = traffic_data.apply(lambda x: x.det_report.bus_detections.sum(), axis=1)\n",
    "    traffic_data['pickup_truck_detections'] = traffic_data.apply(lambda x: x.det_report.pickup_truck_detections.sum(), axis=1)\n",
    "    traffic_data['utility_truck_detections'] = traffic_data.apply(lambda x: x.det_report.utility_truck_detections.sum(), axis=1)\n",
    "    traffic_data['truck_detections'] = traffic_data.apply(lambda x: x.det_report.truck_detections.sum(), axis=1)\n",
    "    traffic_data['cargo_truck_detections'] = traffic_data.apply(lambda x: x.det_report.cargo_truck_detections.sum(), axis=1)\n",
    "    traffic_data['truck_w_box_detections'] = traffic_data.apply(lambda x: x.det_report.truck_w_box_detections.sum(), axis=1)\n",
    "    traffic_data['truck_tractor_detections'] = traffic_data.apply(lambda x: x.det_report.truck_tractor_detections.sum(), axis=1)\n",
    "    traffic_data['trailer_detections'] = traffic_data.apply(lambda x: x.det_report.trailer_detections.sum(), axis=1)\n",
    "    traffic_data['truck_w_flatbed_detections'] = traffic_data.apply(lambda x: x.det_report.truck_w_flatbed_detections.sum(), axis=1)\n",
    "    traffic_data['truck_w_liquid_detections'] = traffic_data.apply(lambda x: x.det_report.truck_w_liquid_detections.sum(), axis=1)\n",
    "    traffic_data['all_vehicle_detections'] = traffic_data.apply(lambda x: x.det_report.all_vehicle_detections.sum(), axis=1)\n",
    "\n",
    "    # Predict the traffic count from these detections via raodlength and avg speed\n",
    "    traffic_data['length_milles'] = traffic_data.length.apply(lambda x: x/1000 *5/8)\n",
    "    traffic_data['time_to_cross_hour'] = traffic_data.apply(lambda x : x.length_milles/x.avg_mph * 1/2 , axis=1)\n",
    "    traffic_data['time_to_cross_min'] = traffic_data.apply(lambda x : x.time_to_cross_hour * 60 , axis=1)\n",
    "\n",
    "    detection_cols = ['small_car_detections',\n",
    "     'bus_detections',\n",
    "     'pickup_truck_detections',\n",
    "     'utility_truck_detections',\n",
    "     'truck_detections',\n",
    "     'cargo_truck_detections',\n",
    "     'truck_w_box_detections',\n",
    "     'truck_tractor_detections',\n",
    "     'trailer_detections',\n",
    "     'truck_w_flatbed_detections',\n",
    "     'truck_w_liquid_detections',\n",
    "     'all_vehicle_detections']\n",
    "\n",
    "    for col in detection_cols:\n",
    "        pred_col = col.replace('detections', 'pred')\n",
    "        traffic_data[pred_col] = traffic_data[col] * 15 / traffic_data['time_to_cross_min']\n",
    "        \n",
    "    return traffic_data"
   ]
  },
  {
   "cell_type": "code",
   "execution_count": 8,
   "id": "b7f2db13-29e8-46c9-8d3b-5d912c52a52d",
   "metadata": {},
   "outputs": [],
   "source": [
    "pickle_folder = '../inference/inference-WV3/tood-low-threshold/pickles'\n",
    "traffic_data_tood = predict_traffic_from_detector(traffc_data_england, 0.15, pickle_folder)"
   ]
  },
  {
   "cell_type": "code",
   "execution_count": 9,
   "id": "9ff491e0-a489-4612-8054-58de5505c4d4",
   "metadata": {},
   "outputs": [],
   "source": [
    "pickle_folder = '../inference/inference-WV3/yolov5-low-threshold/pickles'\n",
    "traffic_data_yolov5 = predict_traffic_from_detector(traffc_data_england, 0.15, pickle_folder)"
   ]
  },
  {
   "cell_type": "code",
   "execution_count": 10,
   "id": "943b03ad-12b6-4954-8e03-378a0655442e",
   "metadata": {},
   "outputs": [],
   "source": [
    "import matplotlib.pyplot as plt\n",
    "import seaborn as sns\n",
    "import numpy as np\n",
    "from scipy.stats import pearsonr"
   ]
  },
  {
   "cell_type": "code",
   "execution_count": 11,
   "id": "3d25c7a9-0222-4a93-bf1b-b11e0a61b274",
   "metadata": {},
   "outputs": [
    {
     "data": {
      "image/png": "[encoded data removed]",
      "text/plain": [
       "<Figure size 720x720 with 1 Axes>"
      ]
     },
     "metadata": {
      "needs_background": "light"
     },
     "output_type": "display_data"
    },
    {
     "name": "stdout",
     "output_type": "stream",
     "text": [
      "rmse 518.220374967747, mape. 0.2680116150112411, corr 0.7656909835808041\n"
     ]
    }
   ],
   "source": [
    "plot_data = traffic_data_tood\n",
    "\n",
    "fig, ax = plt.subplots(figsize=(10,10))\n",
    "sns.scatterplot(x='all_vehicle_pred', y='total_volume', hue='area', data=plot_data, ax=ax)\n",
    "        \n",
    "lims = [\n",
    "    np.min([ax.get_xlim(), ax.get_ylim()]),  # min of both axes\n",
    "    np.max([ax.get_xlim(), ax.get_ylim()]),  # max of both axes\n",
    "]\n",
    "# now plot both limits against eachother\n",
    "plt.plot(lims, lims, 'k-', alpha=0.5)\n",
    "        \n",
    "plt.show()\n",
    "\n",
    "mse = ((plot_data.total_volume.values - plot_data.all_vehicle_pred.values)**2).sum()/len(plot_data)\n",
    "mape = np.absolute(((plot_data.total_volume.values - plot_data.all_vehicle_pred.values) / plot_data.total_volume.values)).mean()\n",
    "corr = pearsonr(plot_data.total_volume.values, plot_data.all_vehicle_pred.values)[0]\n",
    "\n",
    "print(f\"rmse {mse**0.5}, mape. {mape}, corr {corr}\")"
   ]
  },
  {
   "cell_type": "code",
   "execution_count": 12,
   "id": "9d052606-d516-4d5f-8574-fe488c70418c",
   "metadata": {},
   "outputs": [
    {
     "data": {
      "image/png": "[encoded data removed]",
      "text/plain": [
       "<Figure size 720x720 with 1 Axes>"
      ]
     },
     "metadata": {
      "needs_background": "light"
     },
     "output_type": "display_data"
    },
    {
     "name": "stdout",
     "output_type": "stream",
     "text": [
      "rmse 454.0957807014552, mape. 0.2645232068648188, corr 0.8364805535863152\n"
     ]
    }
   ],
   "source": [
    "plot_data = traffic_data_yolov5\n",
    "\n",
    "fig, ax = plt.subplots(figsize=(10,10))\n",
    "sns.scatterplot(x='all_vehicle_pred', y='total_volume', hue='area', data=plot_data, ax=ax)\n",
    "        \n",
    "lims = [\n",
    "    np.min([ax.get_xlim(), ax.get_ylim()]),  # min of both axes\n",
    "    np.max([ax.get_xlim(), ax.get_ylim()]),  # max of both axes\n",
    "]\n",
    "# now plot both limits against eachother\n",
    "plt.plot(lims, lims, 'k-', alpha=0.5)\n",
    "        \n",
    "plt.show()\n",
    "\n",
    "mse = ((plot_data.total_volume.values - plot_data.all_vehicle_pred.values)**2).sum()/len(plot_data)\n",
    "mape = np.absolute(((plot_data.total_volume.values - plot_data.all_vehicle_pred.values) / plot_data.total_volume.values)).mean()\n",
    "corr = pearsonr(plot_data.total_volume.values, plot_data.all_vehicle_pred.values)[0]\n",
    "\n",
    "print(f\"rmse {mse**0.5}, mape. {mape}, corr {corr}\")"
   ]
  },
  {
   "cell_type": "code",
   "execution_count": 13,
   "id": "48559598-41c2-45f3-a893-a065a239f282",
   "metadata": {
    "tags": []
   },
   "outputs": [
    {
     "name": "stdout",
     "output_type": "stream",
     "text": [
      "the best threshold 0.25 gives rmse 439.6783804584062\n"
     ]
    }
   ],
   "source": [
    "pickle_folder = '../inference/inference-WV3/yolov5-low-threshold/pickles'\n",
    "predictions = {}\n",
    "mse_dict = {}\n",
    "for x in range(5,100,5):\n",
    "    threshold = x/100\n",
    "    predictions[threshold] = predict_traffic_from_detector(traffc_data_england, threshold, pickle_folder)\n",
    "    mse = ((predictions[threshold].total_volume.values - predictions[threshold].all_vehicle_pred.values)**2).sum()/len(predictions[threshold])\n",
    "    mse_dict[threshold] = mse\n",
    "    \n",
    "    \n",
    "\n",
    "best_threshold = min(mse_dict, key=mse_dict.get)\n",
    "print(f\"the best threshold {best_threshold} gives rmse {mse_dict[best_threshold]**0.5}\")    "
   ]
  },
  {
   "cell_type": "code",
   "execution_count": 11,
   "id": "d8e3455a-8ca4-4059-8d67-a0fa19885474",
   "metadata": {},
   "outputs": [
    {
     "name": "stdout",
     "output_type": "stream",
     "text": [
      "the best threshold 0.15 gives rmse 518.220374967747\n"
     ]
    }
   ],
   "source": [
    "pickle_folder = '../inference/inference-WV3/tood-low-threshold/pickles'\n",
    "predictions = {}\n",
    "mse_dict = {}\n",
    "for x in range(5,100,5):\n",
    "    threshold = x/100\n",
    "    predictions[threshold] = predict_traffic_from_detector(traffc_data_england, threshold, pickle_folder)\n",
    "    mse = ((predictions[threshold].total_volume.values - predictions[threshold].all_vehicle_pred.values)**2).sum()/len(predictions[threshold])\n",
    "    mse_dict[threshold] = mse\n",
    "    \n",
    "    \n",
    "\n",
    "best_threshold = min(mse_dict, key=mse_dict.get)\n",
    "print(f\"the best threshold {best_threshold} gives rmse {mse_dict[best_threshold]**0.5}\")    "
   ]
  },
  {
   "cell_type": "code",
   "execution_count": 34,
   "id": "b7683e8b-a981-4d6d-aaa2-c3deddd6f4e1",
   "metadata": {},
   "outputs": [],
   "source": [
    "time = datetime.datetime(2019,4,19,12,44)"
   ]
  },
  {
   "cell_type": "code",
   "execution_count": 65,
   "id": "93dcbff2-55ca-454c-8890-ae76ddb66370",
   "metadata": {},
   "outputs": [
    {
     "data": {
      "text/html": [
       "<div>\n",
       "<style scoped>\n",
       "    .dataframe tbody tr th:only-of-type {\n",
       "        vertical-align: middle;\n",
       "    }\n",
       "\n",
       "    .dataframe tbody tr th {\n",
       "        vertical-align: top;\n",
       "    }\n",
       "\n",
       "    .dataframe thead th {\n",
       "        text-align: right;\n",
       "    }\n",
       "</style>\n",
       "<table border=\"1\" class=\"dataframe\">\n",
       "  <thead>\n",
       "    <tr style=\"text-align: right;\">\n",
       "      <th></th>\n",
       "      <th>site_name</th>\n",
       "      <th>site_id</th>\n",
       "      <th>report_date</th>\n",
       "      <th>time_period_ending</th>\n",
       "      <th>time_interval</th>\n",
       "      <th>0-520cm</th>\n",
       "      <th>521-660cm</th>\n",
       "      <th>661-1160cm</th>\n",
       "      <th>1160+cm</th>\n",
       "      <th>avg_mph</th>\n",
       "      <th>total_volume</th>\n",
       "      <th>timestamp</th>\n",
       "      <th>0-520cm_normalised</th>\n",
       "      <th>521-660cm_normalised</th>\n",
       "      <th>661-1160cm_normalised</th>\n",
       "      <th>1160+cm_normalised</th>\n",
       "      <th>total_volume_normalised</th>\n",
       "    </tr>\n",
       "  </thead>\n",
       "  <tbody>\n",
       "    <tr>\n",
       "      <th>338</th>\n",
       "      <td>M602/6013B</td>\n",
       "      <td>1993</td>\n",
       "      <td>2019-04-19T00:00:00</td>\n",
       "      <td>12:44:00</td>\n",
       "      <td>50</td>\n",
       "      <td>381</td>\n",
       "      <td>55</td>\n",
       "      <td>16</td>\n",
       "      <td>11</td>\n",
       "      <td>59</td>\n",
       "      <td>463</td>\n",
       "      <td>2019-04-19 12:44:00</td>\n",
       "      <td>1.770121</td>\n",
       "      <td>1.559823</td>\n",
       "      <td>1.596674</td>\n",
       "      <td>1.504274</td>\n",
       "      <td>1.728687</td>\n",
       "    </tr>\n",
       "  </tbody>\n",
       "</table>\n",
       "</div>"
      ],
      "text/plain": [
       "      site_name site_id          report_date time_period_ending time_interval  \\\n",
       "338  M602/6013B    1993  2019-04-19T00:00:00           12:44:00            50   \n",
       "\n",
       "     0-520cm  521-660cm  661-1160cm  1160+cm avg_mph  total_volume  \\\n",
       "338      381         55          16       11      59           463   \n",
       "\n",
       "              timestamp  0-520cm_normalised  521-660cm_normalised  \\\n",
       "338 2019-04-19 12:44:00            1.770121              1.559823   \n",
       "\n",
       "     661-1160cm_normalised  1160+cm_normalised  total_volume_normalised  \n",
       "338               1.596674            1.504274                 1.728687  "
      ]
     },
     "execution_count": 65,
     "metadata": {},
     "output_type": "execute_result"
    }
   ],
   "source": [
    "clean_train_report_df[(clean_train_report_df.timestamp==time) & (clean_train_report_df.site_id == '1993')]"
   ]
  },
  {
   "cell_type": "code",
   "execution_count": 66,
   "id": "312d0876-bc2b-4aa5-9ea3-8c2471f53ff8",
   "metadata": {},
   "outputs": [
    {
     "data": {
      "text/html": [
       "<div>\n",
       "<style scoped>\n",
       "    .dataframe tbody tr th:only-of-type {\n",
       "        vertical-align: middle;\n",
       "    }\n",
       "\n",
       "    .dataframe tbody tr th {\n",
       "        vertical-align: top;\n",
       "    }\n",
       "\n",
       "    .dataframe thead th {\n",
       "        text-align: right;\n",
       "    }\n",
       "</style>\n",
       "<table border=\"1\" class=\"dataframe\">\n",
       "  <thead>\n",
       "    <tr style=\"text-align: right;\">\n",
       "      <th></th>\n",
       "      <th>site_name</th>\n",
       "      <th>site_id</th>\n",
       "      <th>report_date</th>\n",
       "      <th>time_period_ending</th>\n",
       "      <th>time_interval</th>\n",
       "      <th>0-520cm</th>\n",
       "      <th>521-660cm</th>\n",
       "      <th>661-1160cm</th>\n",
       "      <th>1160+cm</th>\n",
       "      <th>avg_mph</th>\n",
       "      <th>total_volume</th>\n",
       "      <th>timestamp</th>\n",
       "      <th>0-520cm_normalised</th>\n",
       "      <th>521-660cm_normalised</th>\n",
       "      <th>661-1160cm_normalised</th>\n",
       "      <th>1160+cm_normalised</th>\n",
       "      <th>total_volume_normalised</th>\n",
       "    </tr>\n",
       "  </thead>\n",
       "  <tbody>\n",
       "    <tr>\n",
       "      <th>146</th>\n",
       "      <td>M602/6029B</td>\n",
       "      <td>1563</td>\n",
       "      <td>2019-04-19T00:00:00</td>\n",
       "      <td>12:44:00</td>\n",
       "      <td>50</td>\n",
       "      <td>287</td>\n",
       "      <td>160</td>\n",
       "      <td>17</td>\n",
       "      <td>16</td>\n",
       "      <td>67</td>\n",
       "      <td>480</td>\n",
       "      <td>2019-04-19 12:44:00</td>\n",
       "      <td>1.63397</td>\n",
       "      <td>2.012842</td>\n",
       "      <td>1.51814</td>\n",
       "      <td>1.922403</td>\n",
       "      <td>1.747639</td>\n",
       "    </tr>\n",
       "  </tbody>\n",
       "</table>\n",
       "</div>"
      ],
      "text/plain": [
       "      site_name site_id          report_date time_period_ending time_interval  \\\n",
       "146  M602/6029B    1563  2019-04-19T00:00:00           12:44:00            50   \n",
       "\n",
       "     0-520cm  521-660cm  661-1160cm  1160+cm avg_mph  total_volume  \\\n",
       "146      287        160          17       16      67           480   \n",
       "\n",
       "              timestamp  0-520cm_normalised  521-660cm_normalised  \\\n",
       "146 2019-04-19 12:44:00             1.63397              2.012842   \n",
       "\n",
       "     661-1160cm_normalised  1160+cm_normalised  total_volume_normalised  \n",
       "146                1.51814            1.922403                 1.747639  "
      ]
     },
     "execution_count": 66,
     "metadata": {},
     "output_type": "execute_result"
    }
   ],
   "source": [
    "clean_train_report_df[(clean_train_report_df.timestamp==time) & (clean_train_report_df.site_id == '1563')]"
   ]
  }
 ],
 "metadata": {
  "kernelspec": {
   "display_name": "Python 3 (ipykernel)",
   "language": "python",
   "name": "python3"
  },
  "language_info": {
   "codemirror_mode": {
    "name": "ipython",
    "version": 3
   },
   "file_extension": ".py",
   "mimetype": "text/x-python",
   "name": "python",
   "nbconvert_exporter": "python",
   "pygments_lexer": "ipython3",
   "version": "3.10.5"
  }
 },
 "nbformat": 4,
 "nbformat_minor": 5
}

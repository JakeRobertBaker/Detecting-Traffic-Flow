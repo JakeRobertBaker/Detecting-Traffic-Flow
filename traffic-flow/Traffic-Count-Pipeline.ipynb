{
 "cells": [
  {
   "cell_type": "code",
   "execution_count": 1,
   "id": "1f85a422-bafd-4e21-be41-d4d4d121758a",
   "metadata": {},
   "outputs": [],
   "source": [
    "from api import *\n",
    "from collections import defaultdict\n",
    "import os\n",
    "import matplotlib.pyplot as plt\n",
    "import seaborn as sns\n",
    "import numpy as np"
   ]
  },
  {
   "cell_type": "code",
   "execution_count": 2,
   "id": "048a7ce0-1149-4309-b22b-5921f8641520",
   "metadata": {},
   "outputs": [],
   "source": [
    "# Import these reports\n",
    "def traffic_count_pipeline(road_lengths, pickle_folder, single_lane = True):\n",
    "\n",
    "    clean_birmingham_report_df = pd.read_feather('image_time_traffic_reports/clean_birmingham_report_df')\n",
    "    clean_manc_report_df = pd.read_feather('image_time_traffic_reports/clean_manc_report_df')\n",
    "    clean_cam_report_df = pd.read_feather('image_time_traffic_reports/clean_cam_report_df')\n",
    "    clean_thorpe_report_df = pd.read_feather('image_time_traffic_reports/clean_thorpe_report_df')\n",
    "    clean_epping_report_df = pd.read_feather('image_time_traffic_reports/clean_epping_report_df')\n",
    "    clean_bristol_df = pd.read_feather('image_time_traffic_reports/clean_bristol_df')\n",
    "\n",
    "    import copy\n",
    "    traffc_data_england = copy.copy(road_lengths)\n",
    "    # Combine the traffic reports together\n",
    "    clean_train_report_df = pd.concat([clean_birmingham_report_df, clean_manc_report_df, clean_cam_report_df, clean_thorpe_report_df, clean_epping_report_df, clean_bristol_df])\n",
    "\n",
    "\n",
    "    sites = []\n",
    "    for x in list(traffc_data_england.sites):\n",
    "        sites = sites + x.split(', ')\n",
    "\n",
    "    # Filter down onto those sites and columns we want\n",
    "    clean_cols = ['site_name','site_id','report_date','time_period_ending','time_interval',\n",
    "                  '0-520cm','521-660cm','661-1160cm','1160+cm','avg_mph','total_volume','timestamp']\n",
    "    filtered_train_report = clean_train_report_df[clean_cols][clean_train_report_df.site_id.isin(sites)]\n",
    "\n",
    "    # For a particular row x in traffc_data_england get the correspoiding traffic data\n",
    "    def area_report(x):\n",
    "        sites = x.sites.split(', ')\n",
    "        day, month, year = x.ddmmyy.split('/')\n",
    "        hour, minute  = x.time.split(':')\n",
    "\n",
    "        # Get the nearest of the 15 minute intervals to compare to\n",
    "        min_mod_15 = round((int(minute)+1)/15)\n",
    "        nearest_minute_interval = 15*min_mod_15 - 1\n",
    "        time = datetime.datetime(int(year),int(month),int(day), int(hour), int(nearest_minute_interval))\n",
    "        x_report = filtered_train_report[(filtered_train_report.site_id.isin(sites)) & (filtered_train_report.timestamp == time)]\n",
    "        return x_report\n",
    "\n",
    "    # Add the reports to the dataframe\n",
    "    traffc_data_england['report'] = traffc_data_england.apply(area_report, axis=1)\n",
    "    # Extract values from the report\n",
    "    if single_lane:\n",
    "        # We take the mean because the traffic sites for each segment are in series\n",
    "        traffc_data_england['0-520cm'] = traffc_data_england.apply(lambda x: x.report['0-520cm'].mean(), axis=1)\n",
    "        traffc_data_england['521-660cm'] = traffc_data_england.apply(lambda x: x.report['521-660cm'].mean(), axis=1)\n",
    "        traffc_data_england['661-1160cm'] = traffc_data_england.apply(lambda x: x.report['661-1160cm'].mean(), axis=1)\n",
    "        traffc_data_england['1160+cm'] = traffc_data_england.apply(lambda x: x.report['1160+cm'].mean(), axis=1)\n",
    "        traffc_data_england['total_volume'] = traffc_data_england.apply(lambda x: x.report['total_volume'].mean(), axis=1)\n",
    "        traffc_data_england['avg_mph'] = traffc_data_england.apply(lambda x: x.report.avg_mph.astype(int).mean(), axis=1)\n",
    "    else:\n",
    "        traffc_data_england['0-520cm'] = traffc_data_england.apply(lambda x: x.report['0-520cm'].sum(), axis=1)\n",
    "        traffc_data_england['521-660cm'] = traffc_data_england.apply(lambda x: x.report['521-660cm'].sum(), axis=1)\n",
    "        traffc_data_england['661-1160cm'] = traffc_data_england.apply(lambda x: x.report['661-1160cm'].sum(), axis=1)\n",
    "        traffc_data_england['1160+cm'] = traffc_data_england.apply(lambda x: x.report['1160+cm'].sum(), axis=1)\n",
    "        traffc_data_england['total_volume'] = traffc_data_england.apply(lambda x: x.report['total_volume'].sum(), axis=1)\n",
    "        traffc_data_england['avg_mph'] = traffc_data_england.apply(lambda x: x.report.avg_mph.astype(int).mean(), axis=1)\n",
    "\n",
    "    def predict_traffic_from_detector(data, threshold, pickle_folder):\n",
    "\n",
    "        traffic_data = copy.copy(data)\n",
    "        # Initially set the column names so they agree with the names in the pickle files\n",
    "        detections = pd.DataFrame(\n",
    "           {\n",
    "               \"filename\": [],\n",
    "               \"small_car_detections\": [],\n",
    "               \"bus_detections\": [],\n",
    "               \"pickup_truck_detections\": [],\n",
    "               \"utility_truck_detections\": [],\n",
    "               \"truck_detections\": [],\n",
    "               \"cargo_truck_detections\": [],\n",
    "               \"truck_w_box_detections\": [],\n",
    "               \"truck_tractor_detections\": [],\n",
    "               \"trailer_detections\": [],\n",
    "               \"truck_w_flatbed_detections\": [],\n",
    "               \"truck_w_liquid_detections\": [],\n",
    "               \"all_vehicle_detections\": [],\n",
    "\n",
    "           }\n",
    "        )\n",
    "\n",
    "        # Import the predictions the pickle files\n",
    "        prediction_lists = defaultdict()\n",
    "\n",
    "        for i, file in enumerate(os.listdir(pickle_folder)):\n",
    "            with (open(os.path.join(pickle_folder, file), \"rb\")) as f:\n",
    "                prediction_list = pickle.load(f)\n",
    "            filename = file.split('.')[0]\n",
    "            prediction_lists[filename] = prediction_list\n",
    "            counts = defaultdict(int)\n",
    "            for pred in prediction_list:\n",
    "                if pred.score.value > threshold:\n",
    "                    counts[pred.category.name] +=1\n",
    "\n",
    "            detections.loc[i] = [filename, \n",
    "                         counts[\"Small Car\"],\n",
    "                         counts[\"Bus\"],\n",
    "                         counts[\"Pickup Truck\"],\n",
    "                         counts[\"Utility Truck\"],\n",
    "                         counts[\"Truck\"],\n",
    "                         counts[\"Cargo Truck\"],\n",
    "                         counts[\"Truck w/Box\"],\n",
    "                         counts[\"Truck Tractor\"],\n",
    "                         counts[\"Trailer\"],\n",
    "                         counts[\"Truck w/Flatbed\"],\n",
    "                         counts[\"Truck w/Liquid\"],\n",
    "                         sum([x for x in counts.values()])]\n",
    "\n",
    "        # combine the reports    \n",
    "        def detection_report(x):\n",
    "            detections_report = detections[detections.filename == x.filename]\n",
    "            return detections_report\n",
    "\n",
    "        traffic_data['det_report'] = traffic_data.apply(detection_report, axis=1)\n",
    "\n",
    "        # get the detection numbers\n",
    "        traffic_data['small_car_detections'] = traffic_data.apply(lambda x: x.det_report.small_car_detections.sum(), axis=1)\n",
    "        traffic_data['bus_detections'] = traffic_data.apply(lambda x: x.det_report.bus_detections.sum(), axis=1)\n",
    "        traffic_data['pickup_truck_detections'] = traffic_data.apply(lambda x: x.det_report.pickup_truck_detections.sum(), axis=1)\n",
    "        traffic_data['utility_truck_detections'] = traffic_data.apply(lambda x: x.det_report.utility_truck_detections.sum(), axis=1)\n",
    "        traffic_data['truck_detections'] = traffic_data.apply(lambda x: x.det_report.truck_detections.sum(), axis=1)\n",
    "        traffic_data['cargo_truck_detections'] = traffic_data.apply(lambda x: x.det_report.cargo_truck_detections.sum(), axis=1)\n",
    "        traffic_data['truck_w_box_detections'] = traffic_data.apply(lambda x: x.det_report.truck_w_box_detections.sum(), axis=1)\n",
    "        traffic_data['truck_tractor_detections'] = traffic_data.apply(lambda x: x.det_report.truck_tractor_detections.sum(), axis=1)\n",
    "        traffic_data['trailer_detections'] = traffic_data.apply(lambda x: x.det_report.trailer_detections.sum(), axis=1)\n",
    "        traffic_data['truck_w_flatbed_detections'] = traffic_data.apply(lambda x: x.det_report.truck_w_flatbed_detections.sum(), axis=1)\n",
    "        traffic_data['truck_w_liquid_detections'] = traffic_data.apply(lambda x: x.det_report.truck_w_liquid_detections.sum(), axis=1)\n",
    "        traffic_data['all_vehicle_detections'] = traffic_data.apply(lambda x: x.det_report.all_vehicle_detections.sum(), axis=1)\n",
    "\n",
    "        # Predict the traffic count from these detections via raodlength and avg speed\n",
    "        traffic_data['length_milles'] = traffic_data.length.apply(lambda x: x/1000 *5/8)\n",
    "        if single_lane:\n",
    "            # If we are looking at single lanes then the length is correct\n",
    "            traffic_data['time_to_cross_hour'] = traffic_data.apply(lambda x : x.length_milles/x.avg_mph , axis=1)\n",
    "        else:\n",
    "            # If we are looking at double lanes we need to hald the length to get the average length.\n",
    "            traffic_data['time_to_cross_hour'] = traffic_data.apply(lambda x : x.length_milles/x.avg_mph * 1/2 , axis=1)\n",
    "        \n",
    "        traffic_data['time_to_cross_min'] = traffic_data.apply(lambda x : x.time_to_cross_hour * 60 , axis=1)\n",
    "\n",
    "        detection_cols = ['small_car_detections',\n",
    "         'bus_detections',\n",
    "         'pickup_truck_detections',\n",
    "         'utility_truck_detections',\n",
    "         'truck_detections',\n",
    "         'cargo_truck_detections',\n",
    "         'truck_w_box_detections',\n",
    "         'truck_tractor_detections',\n",
    "         'trailer_detections',\n",
    "         'truck_w_flatbed_detections',\n",
    "         'truck_w_liquid_detections',\n",
    "         'all_vehicle_detections']\n",
    "\n",
    "        for col in detection_cols:\n",
    "            pred_col = col.replace('detections', 'pred')\n",
    "            traffic_data[pred_col] = traffic_data[col] * 15 / traffic_data['time_to_cross_min']\n",
    "\n",
    "        return traffic_data\n",
    "    \n",
    "    traffic_data_yolov5 = predict_traffic_from_detector(traffc_data_england, 0.15, pickle_folder)\n",
    "    return traffic_data_yolov5"
   ]
  },
  {
   "cell_type": "markdown",
   "id": "4a70432e-22a0-4891-8730-bcf637f2365e",
   "metadata": {},
   "source": [
    "### Single Lane Inference"
   ]
  },
  {
   "cell_type": "code",
   "execution_count": 100,
   "id": "bd406af1-80e1-4838-9249-c31a9fea36cd",
   "metadata": {},
   "outputs": [],
   "source": [
    "road_lengths = pd.read_csv('road_lengths_single_lane.csv') \n",
    "pickle_folder = '../inference/results/single-lane-yolov5/pickles'\n",
    "\n",
    "traffic_data_yolov5_single_lane = traffic_count_pipeline(road_lengths, pickle_folder, single_lane = True)\n",
    "traffic_data_yolov5_single_lane = traffic_data_yolov5_single_lane[traffic_data_yolov5_single_lane.length > 900]\n",
    "traffic_data_yolov5_single_lane = traffic_data_yolov5_single_lane[traffic_data_yolov5_single_lane.filename != 'epping_MS5_W_3'].reset_index(drop=True)\n",
    "traffic_data_yolov5_single_lane['error'] = traffic_data_yolov5_single_lane.all_vehicle_pred.values - traffic_data_yolov5_single_lane.total_volume.values\n",
    "traffic_data_yolov5_single_lane['percent_error'] = (traffic_data_yolov5_single_lane.all_vehicle_pred.values - traffic_data_yolov5_single_lane.total_volume.values) / traffic_data_yolov5_single_lane.total_volume.values\n"
   ]
  },
  {
   "cell_type": "code",
   "execution_count": 101,
   "id": "b0eea380-6104-4d17-be17-5595693bfaba",
   "metadata": {},
   "outputs": [
    {
     "data": {
      "image/png": "[encoded data removed]",
      "text/plain": [
       "<Figure size 720x720 with 1 Axes>"
      ]
     },
     "metadata": {
      "needs_background": "light"
     },
     "output_type": "display_data"
    },
    {
     "name": "stdout",
     "output_type": "stream",
     "text": [
      "rmse 265.22035247375476, mape. 0.2646140856667836\n"
     ]
    }
   ],
   "source": [
    "plot_data = traffic_data_yolov5_single_lane\n",
    "\n",
    "fig, ax = plt.subplots(figsize=(10,10))\n",
    "sns.scatterplot(x='all_vehicle_pred', y='total_volume', hue='area', data=plot_data, ax=ax)\n",
    "        \n",
    "lims = [\n",
    "    np.min([ax.get_xlim(), ax.get_ylim()]),  # min of both axes\n",
    "    np.max([ax.get_xlim(), ax.get_ylim()]),  # max of both axes\n",
    "]\n",
    "# now plot both limits against eachother\n",
    "plt.plot(lims, lims, 'k-', alpha=0.5)\n",
    "        \n",
    "plt.show()\n",
    "\n",
    "mse = ((plot_data.total_volume.values - plot_data.all_vehicle_pred.values)**2).sum()/len(plot_data)\n",
    "mape = np.absolute(((plot_data.total_volume.values - plot_data.all_vehicle_pred.values) / plot_data.total_volume.values)).mean()\n",
    "\n",
    "print(f\"rmse {mse**0.5}, mape. {mape}\")"
   ]
  },
  {
   "cell_type": "markdown",
   "id": "8b4b0f09-2afe-492a-8513-a24173e25f23",
   "metadata": {},
   "source": [
    "### Double Lane Inference"
   ]
  },
  {
   "cell_type": "code",
   "execution_count": 72,
   "id": "7323e8c9-3d28-4cc2-9706-de60685ec8f0",
   "metadata": {},
   "outputs": [],
   "source": [
    "road_lengths = pd.read_csv('road_lengths.csv') \n",
    "# pickle_folder = '../inference/inference-WV3/yolov5-low-threshold/pickles'\n",
    "pickle_folder = '../inference/results/double-lane-yolov5/pickles'\n",
    "\n",
    "traffic_data_yolov5_double_lane = traffic_count_pipeline(road_lengths, pickle_folder, single_lane = False)\n",
    "traffic_data_yolov5_double_lane['error'] = traffic_data_yolov5_double_lane.all_vehicle_pred.values - traffic_data_yolov5_double_lane.total_volume.values\n",
    "traffic_data_yolov5_double_lane['percent_error'] = (traffic_data_yolov5_double_lane.all_vehicle_pred.values - traffic_data_yolov5_double_lane.total_volume.values) / traffic_data_yolov5_double_lane.total_volume.values"
   ]
  },
  {
   "cell_type": "code",
   "execution_count": 73,
   "id": "8f037146-5ce6-4db5-9ab5-5b532d6e85b5",
   "metadata": {},
   "outputs": [
    {
     "data": {
      "image/png": "[encoded data removed]",
      "text/plain": [
       "<Figure size 720x720 with 1 Axes>"
      ]
     },
     "metadata": {
      "needs_background": "light"
     },
     "output_type": "display_data"
    },
    {
     "name": "stdout",
     "output_type": "stream",
     "text": [
      "rmse 454.0957807014552, mape. 0.2645232068648188\n"
     ]
    }
   ],
   "source": [
    "plot_data = traffic_data_yolov5_double_lane\n",
    "\n",
    "fig, ax = plt.subplots(figsize=(10,10))\n",
    "sns.scatterplot(x='all_vehicle_pred', y='total_volume', hue='area', data=plot_data, ax=ax)\n",
    "        \n",
    "lims = [\n",
    "    np.min([ax.get_xlim(), ax.get_ylim()]),  # min of both axes\n",
    "    np.max([ax.get_xlim(), ax.get_ylim()]),  # max of both axes\n",
    "]\n",
    "# now plot both limits against eachother\n",
    "plt.plot(lims, lims, 'k-', alpha=0.5)\n",
    "        \n",
    "plt.show()\n",
    "\n",
    "mse = ((plot_data.total_volume.values - plot_data.all_vehicle_pred.values)**2).sum()/len(plot_data)\n",
    "mape = np.absolute(((plot_data.total_volume.values - plot_data.all_vehicle_pred.values) / plot_data.total_volume.values)).mean()\n",
    "\n",
    "print(f\"rmse {mse**0.5}, mape. {mape}\")"
   ]
  },
  {
   "cell_type": "markdown",
   "id": "9c06ebc4-a57a-4c3d-8ce5-c1b314aab210",
   "metadata": {},
   "source": [
    "# Error Analysis"
   ]
  },
  {
   "cell_type": "code",
   "execution_count": 69,
   "id": "297f5892-f6a9-43d6-ad0b-327b78ab67b2",
   "metadata": {},
   "outputs": [
    {
     "data": {
      "image/png": "[encoded data removed]",
      "text/plain": [
       "<Figure size 432x288 with 1 Axes>"
      ]
     },
     "metadata": {
      "needs_background": "light"
     },
     "output_type": "display_data"
    }
   ],
   "source": [
    "plot_data = traffic_data_yolov5_single_lane\n",
    "plot_data['error'] = plot_data.all_vehicle_pred.values - plot_data.total_volume.values\n",
    "\n",
    "fig, ax = plt.subplots()\n",
    "\n",
    "graph = sns.barplot(x=\"filename\", y=\"error\", hue=\"area\", data=plot_data, ax=ax)\n",
    "ax.axhline(plot_data.error.mean(), color='black', alpha=0.5)\n",
    "ax.axhline(0, color='black', alpha = 0.8)    \n",
    "lgd = ax.legend(bbox_to_anchor= (1,1))\n",
    "ax.text(39.8, plot_data.error.mean(), f'Mean Error = {int(plot_data.error.mean())}', va='center')\n",
    "plt.ylabel('Error in Traffic Count Prediction')\n",
    "plt.xlabel('Image')\n",
    "\n",
    "labels = [item.get_text() for item in ax.get_xticklabels()]\n",
    "ax.set_xticks([])\n",
    "\n",
    "\n",
    "# taken from https://stackoverflow.com/questions/34888058/changing-width-of-bars-in-bar-chart-created-using-seaborn-factorplot \n",
    "def change_width(ax, new_value) :\n",
    "    for patch in ax.patches :\n",
    "        current_width = patch.get_width()\n",
    "        diff = current_width - new_value\n",
    "\n",
    "        # we change the bar width\n",
    "        patch.set_width(new_value)\n",
    "\n",
    "        # we recenter the bar\n",
    "        patch.set_x(patch.get_x() + diff * .5)\n",
    "\n",
    "change_width(ax, .35)\n",
    "\n",
    "plt.savefig('errors-single-lane', bbox_extra_artists=(lgd,), bbox_inches='tight', dpi=300)\n",
    "plt.show()"
   ]
  },
  {
   "cell_type": "code",
   "execution_count": 50,
   "id": "3f13d687-d439-4776-bc22-f4e1e14fc63c",
   "metadata": {},
   "outputs": [
    {
     "data": {
      "image/png": "[encoded data removed]",
      "text/plain": [
       "<Figure size 432x288 with 1 Axes>"
      ]
     },
     "metadata": {
      "needs_background": "light"
     },
     "output_type": "display_data"
    }
   ],
   "source": [
    "plot_data['percent_error'] = (plot_data.all_vehicle_pred.values - plot_data.total_volume.values) / plot_data.total_volume.values\n",
    "\n",
    "fig, ax = plt.subplots()\n",
    "\n",
    "graph = sns.barplot(x=\"filename\", y=\"percent_error\", hue=\"area\", data=plot_data, ax=ax)\n",
    "ax.axhline(plot_data.percent_error.mean(), color='black', alpha=0.5)\n",
    "ax.axhline(0, color='black', alpha = 0.8)    \n",
    "lgd = ax.legend(bbox_to_anchor= (1,1))\n",
    "ax.text(39.8, plot_data.percent_error.mean(), f'Mean Relative Error = {int(100*plot_data.percent_error.mean())}%', va='center')\n",
    "plt.ylabel('Percentage error in Traffic Count Prediction')\n",
    "\n",
    "plt.xlabel('Image')\n",
    "\n",
    "labels = [item.get_text() for item in ax.get_xticklabels()]\n",
    "ax.set_xticks([])\n",
    "\n",
    "\n",
    "# taken from https://stackoverflow.com/questions/34888058/changing-width-of-bars-in-bar-chart-created-using-seaborn-factorplot \n",
    "def change_width(ax, new_value) :\n",
    "    for patch in ax.patches :\n",
    "        current_width = patch.get_width()\n",
    "        diff = current_width - new_value\n",
    "\n",
    "        # we change the bar width\n",
    "        patch.set_width(new_value)\n",
    "\n",
    "        # we recenter the bar\n",
    "        patch.set_x(patch.get_x() + diff * .5)\n",
    "\n",
    "change_width(ax, .35)\n",
    "\n",
    "plt.savefig('relative_errors-single-lane', bbox_extra_artists=(lgd,), bbox_inches='tight', dpi=300)\n",
    "plt.show()"
   ]
  },
  {
   "cell_type": "markdown",
   "id": "e40cddd0-c677-46da-9b45-ed40668a0b5b",
   "metadata": {},
   "source": [
    "## Gridlock"
   ]
  },
  {
   "cell_type": "code",
   "execution_count": 76,
   "id": "7a5ec7fc-31c3-4246-b2f5-660126d38b47",
   "metadata": {},
   "outputs": [
    {
     "data": {
      "text/html": [
       "<div>\n",
       "<style scoped>\n",
       "    .dataframe tbody tr th:only-of-type {\n",
       "        vertical-align: middle;\n",
       "    }\n",
       "\n",
       "    .dataframe tbody tr th {\n",
       "        vertical-align: top;\n",
       "    }\n",
       "\n",
       "    .dataframe thead th {\n",
       "        text-align: right;\n",
       "    }\n",
       "</style>\n",
       "<table border=\"1\" class=\"dataframe\">\n",
       "  <thead>\n",
       "    <tr style=\"text-align: right;\">\n",
       "      <th></th>\n",
       "      <th>filename</th>\n",
       "      <th>avg_mph</th>\n",
       "      <th>error</th>\n",
       "      <th>percent_error</th>\n",
       "    </tr>\n",
       "  </thead>\n",
       "  <tbody>\n",
       "    <tr>\n",
       "      <th>16</th>\n",
       "      <td>M4_bristol</td>\n",
       "      <td>34.5</td>\n",
       "      <td>592.444561</td>\n",
       "      <td>0.322682</td>\n",
       "    </tr>\n",
       "    <tr>\n",
       "      <th>18</th>\n",
       "      <td>M5_bristol</td>\n",
       "      <td>35.0</td>\n",
       "      <td>262.081598</td>\n",
       "      <td>0.123507</td>\n",
       "    </tr>\n",
       "    <tr>\n",
       "      <th>20</th>\n",
       "      <td>M60_1_manchester</td>\n",
       "      <td>37.5</td>\n",
       "      <td>368.261698</td>\n",
       "      <td>0.162876</td>\n",
       "    </tr>\n",
       "    <tr>\n",
       "      <th>21</th>\n",
       "      <td>M60_2_manchester</td>\n",
       "      <td>36.5</td>\n",
       "      <td>972.585120</td>\n",
       "      <td>0.353282</td>\n",
       "    </tr>\n",
       "  </tbody>\n",
       "</table>\n",
       "</div>"
      ],
      "text/plain": [
       "            filename  avg_mph       error  percent_error\n",
       "16        M4_bristol     34.5  592.444561       0.322682\n",
       "18        M5_bristol     35.0  262.081598       0.123507\n",
       "20  M60_1_manchester     37.5  368.261698       0.162876\n",
       "21  M60_2_manchester     36.5  972.585120       0.353282"
      ]
     },
     "execution_count": 76,
     "metadata": {},
     "output_type": "execute_result"
    }
   ],
   "source": [
    "traffic_data_yolov5_double_lane[traffic_data_yolov5_double_lane.avg_mph<40][['filename', 'avg_mph','error','percent_error']]"
   ]
  },
  {
   "cell_type": "code",
   "execution_count": 75,
   "id": "65bb6d94-0ebf-45c1-9196-fd656e3b4488",
   "metadata": {},
   "outputs": [
    {
     "data": {
      "text/html": [
       "<div>\n",
       "<style scoped>\n",
       "    .dataframe tbody tr th:only-of-type {\n",
       "        vertical-align: middle;\n",
       "    }\n",
       "\n",
       "    .dataframe tbody tr th {\n",
       "        vertical-align: top;\n",
       "    }\n",
       "\n",
       "    .dataframe thead th {\n",
       "        text-align: right;\n",
       "    }\n",
       "</style>\n",
       "<table border=\"1\" class=\"dataframe\">\n",
       "  <thead>\n",
       "    <tr style=\"text-align: right;\">\n",
       "      <th></th>\n",
       "      <th>filename</th>\n",
       "      <th>avg_mph</th>\n",
       "      <th>error</th>\n",
       "      <th>percent_error</th>\n",
       "    </tr>\n",
       "  </thead>\n",
       "  <tbody>\n",
       "    <tr>\n",
       "      <th>0</th>\n",
       "      <td>manchester_M60_N_1</td>\n",
       "      <td>11.333333</td>\n",
       "      <td>-214.193772</td>\n",
       "      <td>-0.231811</td>\n",
       "    </tr>\n",
       "    <tr>\n",
       "      <th>1</th>\n",
       "      <td>manchester_M60_N_4</td>\n",
       "      <td>39.500000</td>\n",
       "      <td>-402.222587</td>\n",
       "      <td>-0.393564</td>\n",
       "    </tr>\n",
       "    <tr>\n",
       "      <th>9</th>\n",
       "      <td>bristol_M4_N_2</td>\n",
       "      <td>12.500000</td>\n",
       "      <td>-225.947149</td>\n",
       "      <td>-0.278775</td>\n",
       "    </tr>\n",
       "    <tr>\n",
       "      <th>12</th>\n",
       "      <td>bristol_M5_W_1</td>\n",
       "      <td>17.400000</td>\n",
       "      <td>-29.709467</td>\n",
       "      <td>-0.031721</td>\n",
       "    </tr>\n",
       "  </tbody>\n",
       "</table>\n",
       "</div>"
      ],
      "text/plain": [
       "              filename    avg_mph       error  percent_error\n",
       "0   manchester_M60_N_1  11.333333 -214.193772      -0.231811\n",
       "1   manchester_M60_N_4  39.500000 -402.222587      -0.393564\n",
       "9       bristol_M4_N_2  12.500000 -225.947149      -0.278775\n",
       "12      bristol_M5_W_1  17.400000  -29.709467      -0.031721"
      ]
     },
     "execution_count": 75,
     "metadata": {},
     "output_type": "execute_result"
    }
   ],
   "source": [
    "traffic_data_yolov5_single_lane[traffic_data_yolov5_single_lane.avg_mph < 40][['filename', 'avg_mph','error','percent_error']]"
   ]
  },
  {
   "cell_type": "markdown",
   "id": "4fe2f996-91ca-4404-876a-081c7d425f17",
   "metadata": {},
   "source": [
    "## Bristol"
   ]
  },
  {
   "cell_type": "markdown",
   "id": "e9986f62-7079-4fd8-b52a-cea4c0ffb99e",
   "metadata": {},
   "source": [
    "### M5"
   ]
  },
  {
   "cell_type": "code",
   "execution_count": 82,
   "id": "0e526bea-e1d9-4853-8eb9-573c896b813a",
   "metadata": {},
   "outputs": [
    {
     "data": {
      "text/html": [
       "<div>\n",
       "<style scoped>\n",
       "    .dataframe tbody tr th:only-of-type {\n",
       "        vertical-align: middle;\n",
       "    }\n",
       "\n",
       "    .dataframe tbody tr th {\n",
       "        vertical-align: top;\n",
       "    }\n",
       "\n",
       "    .dataframe thead th {\n",
       "        text-align: right;\n",
       "    }\n",
       "</style>\n",
       "<table border=\"1\" class=\"dataframe\">\n",
       "  <thead>\n",
       "    <tr style=\"text-align: right;\">\n",
       "      <th></th>\n",
       "      <th>filename</th>\n",
       "      <th>avg_mph</th>\n",
       "      <th>error</th>\n",
       "      <th>percent_error</th>\n",
       "    </tr>\n",
       "  </thead>\n",
       "  <tbody>\n",
       "    <tr>\n",
       "      <th>11</th>\n",
       "      <td>bristol_M5_E_1</td>\n",
       "      <td>52.8</td>\n",
       "      <td>-746.879440</td>\n",
       "      <td>-0.640109</td>\n",
       "    </tr>\n",
       "    <tr>\n",
       "      <th>12</th>\n",
       "      <td>bristol_M5_W_1</td>\n",
       "      <td>17.4</td>\n",
       "      <td>-29.709467</td>\n",
       "      <td>-0.031721</td>\n",
       "    </tr>\n",
       "  </tbody>\n",
       "</table>\n",
       "</div>"
      ],
      "text/plain": [
       "          filename  avg_mph       error  percent_error\n",
       "11  bristol_M5_E_1     52.8 -746.879440      -0.640109\n",
       "12  bristol_M5_W_1     17.4  -29.709467      -0.031721"
      ]
     },
     "execution_count": 82,
     "metadata": {},
     "output_type": "execute_result"
    }
   ],
   "source": [
    "bristol_M5_gridlock = ['bristol_M5_W_1', 'bristol_M5_E_1']\n",
    "traffic_data_yolov5_single_lane[traffic_data_yolov5_single_lane.filename.isin(bristol_M5_gridlock)][['filename', 'avg_mph','error','percent_error']]"
   ]
  },
  {
   "cell_type": "code",
   "execution_count": 85,
   "id": "3549a639-abe2-4366-aed9-7a7bd0275149",
   "metadata": {},
   "outputs": [
    {
     "data": {
      "text/html": [
       "<div>\n",
       "<style scoped>\n",
       "    .dataframe tbody tr th:only-of-type {\n",
       "        vertical-align: middle;\n",
       "    }\n",
       "\n",
       "    .dataframe tbody tr th {\n",
       "        vertical-align: top;\n",
       "    }\n",
       "\n",
       "    .dataframe thead th {\n",
       "        text-align: right;\n",
       "    }\n",
       "</style>\n",
       "<table border=\"1\" class=\"dataframe\">\n",
       "  <thead>\n",
       "    <tr style=\"text-align: right;\">\n",
       "      <th></th>\n",
       "      <th>filename</th>\n",
       "      <th>avg_mph</th>\n",
       "      <th>error</th>\n",
       "      <th>percent_error</th>\n",
       "    </tr>\n",
       "  </thead>\n",
       "  <tbody>\n",
       "    <tr>\n",
       "      <th>18</th>\n",
       "      <td>M5_bristol</td>\n",
       "      <td>35.0</td>\n",
       "      <td>262.081598</td>\n",
       "      <td>0.123507</td>\n",
       "    </tr>\n",
       "  </tbody>\n",
       "</table>\n",
       "</div>"
      ],
      "text/plain": [
       "      filename  avg_mph       error  percent_error\n",
       "18  M5_bristol     35.0  262.081598       0.123507"
      ]
     },
     "execution_count": 85,
     "metadata": {},
     "output_type": "execute_result"
    }
   ],
   "source": [
    "traffic_data_yolov5_double_lane[traffic_data_yolov5_double_lane.filename == 'M5_bristol'][['filename', 'avg_mph','error','percent_error']]"
   ]
  },
  {
   "cell_type": "markdown",
   "id": "62cb47f2-db0b-435d-ada2-624876b6c2b3",
   "metadata": {},
   "source": [
    "### M4"
   ]
  },
  {
   "cell_type": "code",
   "execution_count": 90,
   "id": "302e520a-3391-4e6a-b958-135f4b33e8b5",
   "metadata": {},
   "outputs": [
    {
     "data": {
      "text/html": [
       "<div>\n",
       "<style scoped>\n",
       "    .dataframe tbody tr th:only-of-type {\n",
       "        vertical-align: middle;\n",
       "    }\n",
       "\n",
       "    .dataframe tbody tr th {\n",
       "        vertical-align: top;\n",
       "    }\n",
       "\n",
       "    .dataframe thead th {\n",
       "        text-align: right;\n",
       "    }\n",
       "</style>\n",
       "<table border=\"1\" class=\"dataframe\">\n",
       "  <thead>\n",
       "    <tr style=\"text-align: right;\">\n",
       "      <th></th>\n",
       "      <th>filename</th>\n",
       "      <th>avg_mph</th>\n",
       "      <th>error</th>\n",
       "      <th>percent_error</th>\n",
       "    </tr>\n",
       "  </thead>\n",
       "  <tbody>\n",
       "    <tr>\n",
       "      <th>9</th>\n",
       "      <td>bristol_M4_N_2</td>\n",
       "      <td>12.500000</td>\n",
       "      <td>-225.947149</td>\n",
       "      <td>-0.278775</td>\n",
       "    </tr>\n",
       "    <tr>\n",
       "      <th>10</th>\n",
       "      <td>bristol_M4_S_2</td>\n",
       "      <td>55.666667</td>\n",
       "      <td>-92.268126</td>\n",
       "      <td>-0.089959</td>\n",
       "    </tr>\n",
       "  </tbody>\n",
       "</table>\n",
       "</div>"
      ],
      "text/plain": [
       "          filename    avg_mph       error  percent_error\n",
       "9   bristol_M4_N_2  12.500000 -225.947149      -0.278775\n",
       "10  bristol_M4_S_2  55.666667  -92.268126      -0.089959"
      ]
     },
     "execution_count": 90,
     "metadata": {},
     "output_type": "execute_result"
    }
   ],
   "source": [
    "bristol_M4_gridlock = ['bristol_M4_N_2', 'bristol_M4_S_2']\n",
    "traffic_data_yolov5_single_lane[traffic_data_yolov5_single_lane.filename.isin(bristol_M4_gridlock)][['filename', 'avg_mph','error','percent_error']]"
   ]
  },
  {
   "cell_type": "code",
   "execution_count": 87,
   "id": "7f6f3b54-f236-42f8-bb32-2866321dd102",
   "metadata": {},
   "outputs": [
    {
     "data": {
      "text/html": [
       "<div>\n",
       "<style scoped>\n",
       "    .dataframe tbody tr th:only-of-type {\n",
       "        vertical-align: middle;\n",
       "    }\n",
       "\n",
       "    .dataframe tbody tr th {\n",
       "        vertical-align: top;\n",
       "    }\n",
       "\n",
       "    .dataframe thead th {\n",
       "        text-align: right;\n",
       "    }\n",
       "</style>\n",
       "<table border=\"1\" class=\"dataframe\">\n",
       "  <thead>\n",
       "    <tr style=\"text-align: right;\">\n",
       "      <th></th>\n",
       "      <th>filename</th>\n",
       "      <th>avg_mph</th>\n",
       "      <th>error</th>\n",
       "      <th>percent_error</th>\n",
       "    </tr>\n",
       "  </thead>\n",
       "  <tbody>\n",
       "    <tr>\n",
       "      <th>16</th>\n",
       "      <td>M4_bristol</td>\n",
       "      <td>34.5</td>\n",
       "      <td>592.444561</td>\n",
       "      <td>0.322682</td>\n",
       "    </tr>\n",
       "  </tbody>\n",
       "</table>\n",
       "</div>"
      ],
      "text/plain": [
       "      filename  avg_mph       error  percent_error\n",
       "16  M4_bristol     34.5  592.444561       0.322682"
      ]
     },
     "execution_count": 87,
     "metadata": {},
     "output_type": "execute_result"
    }
   ],
   "source": [
    "traffic_data_yolov5_double_lane[traffic_data_yolov5_double_lane.filename == 'M4_bristol'][['filename', 'avg_mph','error','percent_error']]"
   ]
  }
 ],
 "metadata": {
  "kernelspec": {
   "display_name": "Python 3 (ipykernel)",
   "language": "python",
   "name": "python3"
  },
  "language_info": {
   "codemirror_mode": {
    "name": "ipython",
    "version": 3
   },
   "file_extension": ".py",
   "mimetype": "text/x-python",
   "name": "python",
   "nbconvert_exporter": "python",
   "pygments_lexer": "ipython3",
   "version": "3.10.5"
  }
 },
 "nbformat": 4,
 "nbformat_minor": 5
}

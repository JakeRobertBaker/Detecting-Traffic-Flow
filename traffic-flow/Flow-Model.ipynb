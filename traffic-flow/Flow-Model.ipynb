{
 "cells": [
  {
   "cell_type": "code",
   "execution_count": 1,
   "id": "b12dd40b-e4a1-40fd-8f26-7c7f41fe44b8",
   "metadata": {},
   "outputs": [],
   "source": [
    "import pandas as pd\n",
    "import matplotlib.pyplot as plt\n",
    "import numpy as np\n",
    "import argparse\n",
    "import numpy as np\n",
    "from sklearn.metrics import mean_squared_error\n",
    "from sklearn.metrics import mean_absolute_error\n",
    "from sklearn.metrics import mean_absolute_percentage_error\n",
    "from sklearn.metrics import r2_score\n",
    "import seaborn as sns\n",
    "from tqdm import tqdm\n",
    "import datetime\n",
    "import calendar\n",
    "from collections import defaultdict\n",
    "\n",
    "\n",
    "def report_metrics(y_true, y_pred):\n",
    "    '''\n",
    "    Output metrics of predictions vs truth\n",
    "    '''\n",
    "    mse = mean_squared_error(y_true, y_pred)\n",
    "    mae = mean_absolute_error(y_true, y_pred)\n",
    "    mape = mean_absolute_percentage_error(y_true, y_pred)\n",
    "    r2 = r2_score(y_true, y_pred)\n",
    "    return mse, mae, mape, r2\n",
    "\n",
    "\n",
    "def month_str(time):\n",
    "    '''\n",
    "    Returns two strings representing the first and last day of time's month\n",
    "    '''\n",
    "    if time.month < 10:\n",
    "        month_str = \"0\" + str(time.month)\n",
    "    else:\n",
    "        month_str = str(time.month)\n",
    "\n",
    "    start_str = str(time.year) + \"-\" + month_str + \"-01 00:14:00\"\n",
    "    last_day = calendar.monthrange(time.year, time.month)[1]\n",
    "    end_str = str(time.year) + \"-\" + month_str + \"-\" + str(last_day) + \" 23:59:00\"\n",
    "    return start_str, end_str\n",
    "\n",
    "\n",
    "def year_str(time):\n",
    "    '''\n",
    "    Returns two strings representing the first and last day of time's year\n",
    "    '''\n",
    "    start_time = str(time.year) + \"-01-01 00:14:00\"\n",
    "    end_time = str(time.year) + \"-12-31 23:59:00\"\n",
    "    return start_time, end_time\n",
    "\n",
    "\n",
    "\n",
    "class Normalised_Flow_Model:\n",
    "    def __init__(self, train_report):\n",
    "        self.time_range = pd.date_range(\"2019-01-01 00:14:00\", \"2022-04-08 23:59:00\", freq=\"15min\")\n",
    "        # Don't include out of sync time values\n",
    "        train_report_in_range = train_report[train_report.timestamp.isin(self.time_range)]\n",
    "        self.predictions = train_report_in_range.groupby('timestamp')['total_volume_normalised'].median().to_frame().reset_index()\n",
    "        self.true_mu = self.predictions.total_volume_normalised.sum() / len(self.time_range)\n",
    "        self.empty_times = []\n",
    "        \n",
    "    def check_empties(self):\n",
    "        for t in tqdm(self.time_range):\n",
    "            if len( self.predictions[self.predictions.timestamp==t] ) <1:\n",
    "                self.empty_times.append(t)\n",
    "                \n",
    "        print(f\"{len(self.empty_times)} of {len(self.time_range)} time values are empty, {len(self.empty_times)/len(self.time_range) *100} %\")\n",
    "        \n",
    "    def N(self,t):\n",
    "        result = self.predictions[self.predictions.timestamp == t]\n",
    "        if len(result) == 1:\n",
    "            N_t = result.total_volume_normalised.to_numpy().item()\n",
    "        else:\n",
    "            N_t = 0\n",
    "        return N_t\n",
    "    \n",
    "    \n",
    "    def mean_N(self, date_range):\n",
    "        '''\n",
    "        Returns the average normalised volume over date_range\n",
    "        '''\n",
    "        N_t_in_date_range = self.predictions[self.predictions.timestamp.isin(date_range)]\n",
    "        mean_N_t = N_t_in_date_range.total_volume_normalised.sum()/len(date_range)\n",
    "        return mean_N_t\n",
    "    \n",
    "    def mean_N_year(self, time):\n",
    "        '''\n",
    "        Returns a prediction for the average normalised volume over a year\n",
    "        '''\n",
    "        # Get two strings representing the start and end of the year\n",
    "        start_time, end_time = year_str(time)\n",
    "        # Use these strings to create a daterange\n",
    "        date_range = pd.date_range(start_time, end_time, freq=\"15min\")\n",
    "        \n",
    "        mean_N_t = self.mean_N(date_range)\n",
    "        return mean_N_t\n",
    "        \n",
    "        \n",
    "    def mean_N_month(self, time):\n",
    "        '''\n",
    "        Returns a prediction for the average normalised volume over a month\n",
    "        '''\n",
    "        # Get two strings representing the start and end of the month\n",
    "        start_time, end_time = month_str(time)\n",
    "        # Use these strings to create a daterange\n",
    "        date_range = pd.date_range(start_time, end_time, freq=\"15min\")\n",
    "        \n",
    "        mean_N_t = self.mean_N(date_range)\n",
    "        return mean_N_t"
   ]
  },
  {
   "cell_type": "code",
   "execution_count": 2,
   "id": "731658b0-b363-491b-ab4d-e2dda191df24",
   "metadata": {},
   "outputs": [],
   "source": [
    "def get_reports(test_loc):\n",
    "    test_report = pd.concat([v for k,v in reports.items() if k == test_loc])\n",
    "    train_report = pd.concat([v for k,v in reports.items() if k != test_loc])\n",
    "    return train_report, test_report"
   ]
  },
  {
   "cell_type": "markdown",
   "id": "1da16878-26a6-42d7-bdf4-e021b81d4a08",
   "metadata": {},
   "source": [
    "### Import Reports"
   ]
  },
  {
   "cell_type": "code",
   "execution_count": 3,
   "id": "13e9ffbd-b91b-46d7-94ea-8995bcd95547",
   "metadata": {},
   "outputs": [],
   "source": [
    "# Import Traffic count predictions\n",
    "traffic_predictions = pd.read_feather('predictions/traffic-counts/yolov5--Separate-Directions-LiveSpeed-RecallAdjusted')\n",
    "\n",
    "# Import the traffic data to produce median models\n",
    "clean_birmingham_report_df_norm = pd.read_feather('high_quality_traffic_reports_two_year/clean_birmingham_report_df_norm')\n",
    "clean_manchester_report_df_norm = pd.read_feather('high_quality_traffic_reports_two_year/clean_manchester_report_df_norm')\n",
    "clean_cambridge_report_df_norm = pd.read_feather('high_quality_traffic_reports_two_year/clean_cambridge_report_df_norm')\n",
    "clean_thorpe_report_df_norm = pd.read_feather('high_quality_traffic_reports_two_year/clean_thorpe_report_df_norm')\n",
    "clean_epping_report_df_norm = pd.read_feather('high_quality_traffic_reports_two_year/clean_epping_report_df_norm')\n",
    "clean_bristol_report_df_norm = pd.read_feather('high_quality_traffic_reports_two_year/clean_bristol_report_df_norm')\n",
    "\n",
    "# Import the reports that have the yearly data for all the sites\n",
    "image_year_report_birmingham = pd.read_feather('image_year_traffic_reports/clean_birmingham_report_df')\n",
    "image_year_report_manchester = pd.read_feather('image_year_traffic_reports/clean_manc_report_df')\n",
    "image_year_report_cambridge = pd.read_feather('image_year_traffic_reports/clean_cam_report_df')\n",
    "image_year_report_thorpe = pd.read_feather('image_year_traffic_reports/clean_thorpe_report_df')\n",
    "image_year_report_epping = pd.read_feather('image_year_traffic_reports/clean_epping_report_df')\n",
    "image_year_report_bristol = pd.read_feather('image_year_traffic_reports/clean_bristol_df')\n",
    "\n",
    "# Put the Dataframe into dicts so that they can be eaility accessed\n",
    "image_year_reports = {\"birmingham\": image_year_report_birmingham,\n",
    "          \"manchester\" : image_year_report_manchester,\n",
    "          \"cambridge\" : image_year_report_cambridge,\n",
    "          \"thorpe\" : image_year_report_thorpe,\n",
    "          \"epping\" : image_year_report_epping,\n",
    "          \"bristol\" : image_year_report_bristol }\n",
    "\n",
    "reports = {\"birmingham\": clean_birmingham_report_df_norm,\n",
    "          \"manchester\" : clean_manchester_report_df_norm,\n",
    "          \"cambridge\" : clean_cambridge_report_df_norm,\n",
    "          \"thorpe\" : clean_thorpe_report_df_norm,\n",
    "          \"epping\" : clean_epping_report_df_norm,\n",
    "          \"bristol\" : clean_bristol_report_df_norm }\n",
    "\n",
    "\n",
    "times = {\"birmingham\": datetime.datetime(2021,6,15,12,14),\n",
    "          \"manchester\" : datetime.datetime(2019,4,19,12,59),\n",
    "          \"cambridge\" : datetime.datetime(2021,11,2,12,29),\n",
    "          \"thorpe\" : datetime.datetime(2022,3,8,12,14),\n",
    "          \"epping\" : datetime.datetime(2022,3,8,12,14),\n",
    "          \"bristol\" : datetime.datetime(2020,8,8,12,14) }"
   ]
  },
  {
   "cell_type": "code",
   "execution_count": 4,
   "id": "093e73d5-c7c3-4c21-8f3a-a8a4fe16cc7d",
   "metadata": {},
   "outputs": [],
   "source": [
    "def plot_actual_v_pred(avg_flows, avg_flow_preds, name='AADT'):\n",
    "    fig, ax = plt.subplots(figsize=(5,5))\n",
    "    sns.scatterplot(x=avg_flow_preds, y=avg_flows, ax=ax)\n",
    "    # lims of the y=x line\n",
    "    lims = [\n",
    "        np.min([ax.get_xlim(), ax.get_ylim()]),  # min of both axes\n",
    "        np.max([ax.get_xlim(), ax.get_ylim()]),  # max of both axes\n",
    "    ]\n",
    "    # now plot both limits against eachother\n",
    "    plt.plot(lims, lims, 'k-', alpha=0.5)\n",
    "    plt.xlabel(f'Predicted {name}')\n",
    "    plt.ylabel(f'Actual {name}')\n",
    "    plt.show()"
   ]
  },
  {
   "cell_type": "code",
   "execution_count": 5,
   "id": "7e277abf-fa0b-457b-be17-3f2a7fb99bbe",
   "metadata": {},
   "outputs": [],
   "source": [
    "def model_window_satellite(test_report, time, date_range, traffic_predictions_focus, model):\n",
    "    ''' \n",
    "    Function that applies a traffic model to the area test_report and the predictions from traffic_predictions_focus and outputs the results\n",
    "    '''\n",
    "    \n",
    "    avg_flow_preds_sat = []\n",
    "    avg_flow_preds = []\n",
    "    avg_flows = []    \n",
    "    # For each site in the test area estimate the average flow over date_range\n",
    "    for sites_str in traffic_predictions_focus.sites:\n",
    "        site_list = sites_str.replace(' ', '').split(',')\n",
    "        \n",
    "        # Obtain the true traffic flow for site_list\n",
    "        test_report_site = test_report[(test_report.site_id.isin(site_list)) & (test_report.timestamp.isin(date_range))]\n",
    "        avg_flow = test_report_site.groupby('time_period_ending')['total_volume'].mean().mean()\n",
    "        \n",
    "        # Obtain the count values for site_list\n",
    "        X_t_values = test_report_site[test_report_site.timestamp == time].total_volume\n",
    "        # Take the mean of these count values\n",
    "        X_t = X_t_values.mean()\n",
    "        # Make a prediction of avg_flow from the true counts\n",
    "        avg_flow_pred = X_t/model.N(time) * model.mean_N(date_range)\n",
    "        \n",
    "        # Obtain the count values via satellite for site_list\n",
    "        X_t_sat = traffic_predictions_focus[traffic_predictions_focus.sites == sites_str].all_vehicle_pred.to_numpy()\n",
    "        # Make a prediction of avg_flow from the satellites counts\n",
    "        avg_flow_pred_sat = X_t_sat/model.N(time) * model.mean_N(date_range)\n",
    "        \n",
    "        avg_flows.append(avg_flow)\n",
    "        avg_flow_preds.append(avg_flow_pred.item())\n",
    "        avg_flow_preds_sat.append(avg_flow_pred_sat.item())\n",
    "        \n",
    "        \n",
    "    metrics_gold_counts = report_metrics(avg_flows, avg_flow_preds)\n",
    "    metrics_satellite_counts = report_metrics(avg_flows, avg_flow_preds_sat)\n",
    "    return avg_flows, avg_flow_preds, avg_flow_preds_sat"
   ]
  },
  {
   "cell_type": "code",
   "execution_count": 6,
   "id": "75fbff2a-6afb-4ba8-8d31-55f7c5cca29c",
   "metadata": {},
   "outputs": [],
   "source": [
    "def test_area(area, model, AADT = True):\n",
    "    traffic_predictions_focus = traffic_predictions[traffic_predictions.area == area]\n",
    "    test_report = image_year_reports[area]\n",
    "    time = times[area]\n",
    "    if AADT:\n",
    "        start_str, end_str = year_str(time)\n",
    "    else:\n",
    "        start_str, end_str = month_str(time)\n",
    "        \n",
    "    date_range = pd.date_range(start_str, end_str, freq=\"15min\")\n",
    "    return model_window_satellite(test_report, time, date_range, traffic_predictions_focus, model)"
   ]
  },
  {
   "cell_type": "code",
   "execution_count": 7,
   "id": "af7ab6a3-5536-487c-99e2-585c46c07de8",
   "metadata": {},
   "outputs": [
    {
     "data": {
      "text/plain": [
       "<AxesSubplot:xlabel='area', ylabel='count'>"
      ]
     },
     "execution_count": 7,
     "metadata": {},
     "output_type": "execute_result"
    },
    {
     "data": {
      "image/png": "[encoded data removed]",
      "text/plain": [
       "<Figure size 432x288 with 1 Axes>"
      ]
     },
     "metadata": {
      "needs_background": "light"
     },
     "output_type": "display_data"
    }
   ],
   "source": [
    "sns.countplot(x = traffic_predictions.area)"
   ]
  },
  {
   "cell_type": "markdown",
   "id": "bdb1af12-acef-4af0-867c-34fb81f2a0d9",
   "metadata": {},
   "source": [
    "## Results on train vs test set"
   ]
  },
  {
   "cell_type": "markdown",
   "id": "4ba91a34-587b-44cd-ade1-dabc308dd33a",
   "metadata": {},
   "source": [
    "### AADT"
   ]
  },
  {
   "cell_type": "code",
   "execution_count": 8,
   "id": "aca70581-52f3-4dc5-8335-e33321dbd6cf",
   "metadata": {},
   "outputs": [
    {
     "name": "stdout",
     "output_type": "stream",
     "text": [
      "birmingham\n",
      "cambridge\n",
      "bristol\n",
      "manchester\n"
     ]
    }
   ],
   "source": [
    "AADT_sat_results = defaultdict(str)\n",
    "AADT_sat_results_train = defaultdict(str)\n",
    "\n",
    "areas = [\"birmingham\", \"cambridge\", \"bristol\", \"manchester\"]\n",
    "for area in areas:\n",
    "    print(area)\n",
    "    \n",
    "    train_report, __ = get_reports(area)\n",
    "    model = Normalised_Flow_Model(train_report)\n",
    "    \n",
    "    AADT_sat_results[area] = test_area(area, model) # avg_flows, avg_flow_preds, avg_flow_preds_sat\n",
    "    \n",
    "    # Get restuls with the same model on the traiing areas\n",
    "    for other_area in [other_area for other_area in areas if other_area != area ]:\n",
    "        avg_flows, avg_flow_preds, avg_flow_preds_sat = [], [], []\n",
    "        \n",
    "        flows, flow_preds, flow_preds_sat = test_area(other_area, model)\n",
    "        \n",
    "        avg_flows += flows\n",
    "        avg_flow_preds += flow_preds\n",
    "        avg_flow_preds_sat += flow_preds_sat\n",
    "        \n",
    "        AADT_sat_results_train[other_area] = avg_flows, avg_flow_preds, avg_flow_preds_sat"
   ]
  },
  {
   "cell_type": "code",
   "execution_count": 9,
   "id": "a640e6d8-728b-47d3-85ea-334c356f886e",
   "metadata": {},
   "outputs": [
    {
     "name": "stdout",
     "output_type": "stream",
     "text": [
      ",, test,test, train, train\n",
      ",,Satellite Traffic Count, True Traffic Count, Satellite Traffic Count, True Traffic Count\n",
      ",MSE, 9309, 6560, 8758, 5785\n",
      "birmingham,MAE, 84, 62, 80, 57\n",
      ",MAPE, 0.36, 0.17, 0.36, 0.17\n",
      ",MSE, 14156, 462, 14058, 574\n",
      "cambridge,MAE, 102, 19, 103, 21\n",
      ",MAPE, 0.29, 0.06, 0.3, 0.07\n",
      ",MSE, 25670, 5137, 22515, 4609\n",
      "bristol,MAE, 138, 59, 128, 48\n",
      ",MAPE, 0.37, 0.16, 0.34, 0.13\n",
      ",MSE, 44838, 12567, 36830, 7898\n",
      "manchester,MAE, 196, 95, 181, 72\n",
      ",MAPE, 0.33, 0.16, 0.3, 0.13\n"
     ]
    }
   ],
   "source": [
    "# Print and plot results\n",
    "print(\",, test,test, train, train\")\n",
    "print(\",,Satellite Traffic Count, True Traffic Count, Satellite Traffic Count, True Traffic Count\")\n",
    "\n",
    "for location, AADT_result in AADT_sat_results.items():\n",
    "    avg_flows, avg_flow_preds, avg_flow_preds_sat = AADT_result\n",
    "    avg_flows_train, avg_flow_preds_train, avg_flow_preds_sat_train = AADT_sat_results_train[location]\n",
    "    \n",
    "    mse_s, mae_s, mape_s, r2_s = report_metrics(avg_flows, avg_flow_preds_sat)\n",
    "    mse_g, mae_g, mape_g, r2_g = report_metrics(avg_flows, avg_flow_preds)\n",
    "    \n",
    "    mse_st, mae_st, mape_st, r2_st = report_metrics(avg_flows_train, avg_flow_preds_sat_train)\n",
    "    mse_gt, mae_gt, mape_gt, r2_gt = report_metrics(avg_flows_train, avg_flow_preds_train)\n",
    "\n",
    "    print(f\",MSE, {str(round(mse_s))}, {str(round(mse_g))}, {str(round(mse_st))}, {str(round(mse_gt))}\")\n",
    "    print(f\"{location},MAE, {str(round(mae_s))}, {str(round(mae_g))}, {str(round(mae_st))}, {str(round(mae_gt))}\")\n",
    "    print(f\",MAPE, {str(round(mape_s, 2))}, {str(round(mape_g, 2))}, {str(round(mape_st, 2))}, {str(round(mape_gt, 2))}\")"
   ]
  },
  {
   "cell_type": "markdown",
   "id": "04e37b3e-5df2-4eab-b157-cff555bffa93",
   "metadata": {},
   "source": [
    "### AMDT"
   ]
  },
  {
   "cell_type": "code",
   "execution_count": 10,
   "id": "549ec9bc-71ef-4f93-9def-17631eaa297b",
   "metadata": {},
   "outputs": [
    {
     "name": "stdout",
     "output_type": "stream",
     "text": [
      "birmingham\n",
      "manchester\n",
      "cambridge\n",
      "thorpe\n",
      "epping\n",
      "bristol\n"
     ]
    }
   ],
   "source": [
    "AMDT_sat_results = defaultdict(str)\n",
    "AMDT_sat_results_train = defaultdict(str)\n",
    "\n",
    "areas = ['birmingham', 'manchester', 'cambridge', 'thorpe', 'epping', 'bristol']\n",
    "for area in areas:\n",
    "    print(area)\n",
    "    \n",
    "    train_report, __ = get_reports(area)\n",
    "    model = Normalised_Flow_Model(train_report)\n",
    "    \n",
    "    AMDT_sat_results[area] = test_area(area, model, AADT = False) # avg_flows, avg_flow_preds, avg_flow_preds_sat\n",
    "    \n",
    "    # Get restuls with the same model on the traiing areas\n",
    "    for other_area in [other_area for other_area in areas if other_area != area ]:\n",
    "        avg_flows, avg_flow_preds, avg_flow_preds_sat = [], [], []\n",
    "        \n",
    "        flows, flow_preds, flow_preds_sat = test_area(other_area, model, AADT = False)\n",
    "        \n",
    "        avg_flows += flows\n",
    "        avg_flow_preds += flow_preds\n",
    "        avg_flow_preds_sat += flow_preds_sat\n",
    "        \n",
    "        AMDT_sat_results_train[other_area] = avg_flows, avg_flow_preds, avg_flow_preds_sat"
   ]
  },
  {
   "cell_type": "code",
   "execution_count": 11,
   "id": "bbe707cc-ae07-47ed-b0fd-2e21b322f061",
   "metadata": {},
   "outputs": [
    {
     "name": "stdout",
     "output_type": "stream",
     "text": [
      ",, test,test, train, train\n",
      ",,Satellite Traffic Count, True Traffic Count, Satellite Traffic Count, True Traffic Count\n",
      ",MSE, 9299, 5459, 8743, 4602\n",
      "birmingham,MAE, 83, 59, 78, 53\n",
      ",MAPE, 0.33, 0.15, 0.33, 0.15\n",
      ",MSE, 40408, 9949, 33893, 6542\n",
      "manchester,MAE, 187, 84, 174, 65\n",
      ",MAPE, 0.32, 0.15, 0.3, 0.12\n",
      ",MSE, 14311, 606, 14381, 512\n",
      "cambridge,MAE, 105, 21, 105, 19\n",
      ",MAPE, 0.28, 0.05, 0.28, 0.05\n",
      ",MSE, 1905, 1627, 1892, 1573\n",
      "thorpe,MAE, 33, 31, 34, 32\n",
      ",MAPE, 0.04, 0.04, 0.04, 0.04\n",
      ",MSE, 34737, 2250, 33675, 2190\n",
      "epping,MAE, 145, 44, 142, 43\n",
      ",MAPE, 0.21, 0.07, 0.21, 0.07\n",
      ",MSE, 38319, 10789, 38476, 10668\n",
      "bristol,MAE, 155, 74, 156, 73\n",
      ",MAPE, 0.3, 0.14, 0.3, 0.14\n"
     ]
    }
   ],
   "source": [
    "# Print and plot results\n",
    "print(\",, test,test, train, train\")\n",
    "print(\",,Satellite Traffic Count, True Traffic Count, Satellite Traffic Count, True Traffic Count\")\n",
    "\n",
    "for location, AMDT_result in AMDT_sat_results.items():\n",
    "    avg_flows, avg_flow_preds, avg_flow_preds_sat = AMDT_result\n",
    "    avg_flows_train, avg_flow_preds_train, avg_flow_preds_sat_train = AMDT_sat_results_train[location]\n",
    "    \n",
    "    mse_s, mae_s, mape_s, r2_s = report_metrics(avg_flows, avg_flow_preds_sat)\n",
    "    mse_g, mae_g, mape_g, r2_g = report_metrics(avg_flows, avg_flow_preds)\n",
    "    \n",
    "    mse_st, mae_st, mape_st, r2_st = report_metrics(avg_flows_train, avg_flow_preds_sat_train)\n",
    "    mse_gt, mae_gt, mape_gt, r2_gt = report_metrics(avg_flows_train, avg_flow_preds_train)\n",
    "\n",
    "    print(f\",MSE, {str(round(mse_s))}, {str(round(mse_g))}, {str(round(mse_st))}, {str(round(mse_gt))}\")\n",
    "    print(f\"{location},MAE, {str(round(mae_s))}, {str(round(mae_g))}, {str(round(mae_st))}, {str(round(mae_gt))}\")\n",
    "    print(f\",MAPE, {str(round(mape_s, 2))}, {str(round(mape_g, 2))}, {str(round(mape_st, 2))}, {str(round(mape_gt, 2))}\")"
   ]
  },
  {
   "cell_type": "markdown",
   "id": "b0e773b6-bfb6-4df0-9279-9ab4c254ac4f",
   "metadata": {
    "tags": []
   },
   "source": [
    "## Local Model vs Global Model"
   ]
  },
  {
   "cell_type": "markdown",
   "id": "be160ee8-981e-49ea-bdcd-f64928bf4243",
   "metadata": {
    "tags": []
   },
   "source": [
    "### AADT"
   ]
  },
  {
   "cell_type": "raw",
   "id": "6c4cf5c0-be6f-47da-8e32-61e3bc65a12c",
   "metadata": {},
   "source": [
    "AADT_sat_results = defaultdict(str)\n",
    "AADT_sat_results_local = defaultdict(str)\n",
    "\n",
    "areas = [\"birmingham\", \"cambridge\", \"bristol\", \"manchester\"]\n",
    "for area in areas:\n",
    "    print(area)\n",
    "    traffic_predictions_focus = traffic_predictions[traffic_predictions.area == area]\n",
    "    train_report, __ = get_reports(area)\n",
    "    \n",
    "    model = Normalised_Flow_Model(train_report)\n",
    "    test_report = image_year_reports[area]\n",
    "    \n",
    "    time = times[area]\n",
    "    start_str, end_str = year_str(time)\n",
    "    date_range = pd.date_range(start_str, end_str, freq=\"15min\")\n",
    "    # metrics_gold_counts, metrics_satellite_counts, model, coverage, avg_flows, avg_flow_preds\n",
    "    AADT_sat_results[area] = model_window_satellite(test_report, time, date_range, traffic_predictions_focus, model)\n",
    "    \n",
    "    __, train_report_local = get_reports(area)\n",
    "    local_model = Normalised_Flow_Model(train_report_local)\n",
    "    AADT_sat_results_local[area] = model_window_satellite(test_report, time, date_range, traffic_predictions_focus, local_model)"
   ]
  },
  {
   "cell_type": "raw",
   "id": "de2c6b69-c460-40a7-a34e-bcf92ba20611",
   "metadata": {},
   "source": [
    "# Print and plot results\n",
    "\n",
    "for location, AADT_result in AADT_sat_results.items():\n",
    "    print(f\"Area {location}\")\n",
    "    avg_flows, avg_flow_preds, avg_flow_preds_sat = AADT_result\n",
    "    avg_flows_local, avg_flow_preds_local, avg_flow_preds_sat_local = AADT_sat_results_local[location]\n",
    "    \n",
    "    metrics_satellite_counts = report_metrics(avg_flows, avg_flow_preds_sat)\n",
    "    mse_s, mae_s, mape_s, r2_s = metrics_satellite_counts\n",
    "    \n",
    "    metrics_gold_counts = report_metrics(avg_flows, avg_flow_preds)\n",
    "    mse_g, mae_g, mape_g, r2_g = metrics_gold_counts\n",
    "    \n",
    "    metrics_gold_counts_train = report_metrics(avg_flows_local, avg_flow_preds_local)\n",
    "    mse_gl, mae_gl, mape_gl, r2_gl = metrics_gold_counts_train\n",
    "    \n",
    "    print('Satellite Metrics \\t Gold count metrics \\t Gold count metrics for local training')\n",
    "    print(f\"MSE:  {str(round(mse_s, 2))} \\t\\t MSE: {str(round(mse_g, 2))} \\t\\t MSE: {str(round(mse_gl, 2))}\")\n",
    "    print(f\"MAE:  {str(round(mae_s, 2))}  \\t\\t MAE: {str(round(mae_g, 2))} \\t\\t MAE: {str(round(mae_gl, 2))}\")\n",
    "    print(f\"MAPE: {str(round(mape_s, 2))} \\t\\t MAPE: {str(round(mape_g, 2))} \\t\\t MAPE {str(round(mape_gl, 2))}\")\n",
    "    print(f\"R^2:  {str(round(r2_s, 2))} \\t\\t R^2: {str(round(r2_g, 2))} \\t\\t R^2: {str(round(r2_gl, 2))}\")\n",
    "    \n",
    "    \n",
    "    plot_actual_v_pred(avg_flows, avg_flow_preds_sat, name='AADT')"
   ]
  },
  {
   "cell_type": "markdown",
   "id": "91b1328f-43b4-4816-b340-c10e6508181f",
   "metadata": {
    "tags": []
   },
   "source": [
    "### ADMT"
   ]
  },
  {
   "cell_type": "raw",
   "id": "a2ccb93a-7aac-4fb7-ab85-d7875b782140",
   "metadata": {},
   "source": [
    "AAMT_sat_results = defaultdict(str)\n",
    "AAMT_sat_results_local = defaultdict(str)\n",
    "for area in ['birmingham', 'manchester', 'cambridge', 'thorpe', 'epping', 'bristol']:\n",
    "    print(area)\n",
    "    traffic_predictions_focus = traffic_predictions_focus = traffic_predictions[traffic_predictions.area == area]\n",
    "    train_report, __ = get_reports(area)\n",
    "    \n",
    "    model = Normalised_Flow_Model(train_report)\n",
    "    test_report = image_year_reports[area]\n",
    "    time = times[area]\n",
    "    start_str, end_str = month_str(time)\n",
    "    date_range = pd.date_range(start_str, end_str, freq=\"15min\")\n",
    "    # metrics_gold_counts, metrics_satellite_counts, model, coverage, avg_flows, avg_flow_preds\n",
    "    AAMT_sat_results[area] = model_window_satellite(test_report, time, date_range, traffic_predictions_focus, model)\n",
    "    \n",
    "    __, train_report_local = get_reports(area)\n",
    "    local_model = Normalised_Flow_Model(train_report_local)\n",
    "    AAMT_sat_results_local[area] = model_window_satellite(test_report, time, date_range, traffic_predictions_focus, local_model)"
   ]
  },
  {
   "cell_type": "raw",
   "id": "cf8c5cb4-cd31-4fe7-b0fc-5d112ca324d3",
   "metadata": {},
   "source": [
    "# Print and plot results\n",
    "\n",
    "for location, AAMT_result in AAMT_sat_results.items():\n",
    "    print(f\"Area {location}\")\n",
    "    avg_flows, avg_flow_preds, avg_flow_preds_sat = AAMT_result\n",
    "    avg_flows_local, avg_flow_preds_local, avg_flow_preds_sat_local = AAMT_sat_results_local[location]\n",
    "    \n",
    "    metrics_satellite_counts = report_metrics(avg_flows, avg_flow_preds_sat)\n",
    "    mse_s, mae_s, mape_s, r2_s = metrics_satellite_counts\n",
    "    \n",
    "    metrics_gold_counts = report_metrics(avg_flows, avg_flow_preds)\n",
    "    mse_g, mae_g, mape_g, r2_g = metrics_gold_counts\n",
    "    \n",
    "    metrics_gold_counts_train = report_metrics(avg_flows_local, avg_flow_preds_local)\n",
    "    mse_gl, mae_gl, mape_gl, r2_gl = metrics_gold_counts_train\n",
    "    \n",
    "    print('Satellite Metrics \\t Gold count metrics \\t Gold count local-train Metrics')\n",
    "    print(f\"MSE:  {str(round(mse_s, 2))} \\t\\t MSE: {str(round(mse_g, 2))} \\t\\t MSE: {str(round(mse_gl, 2))}\")\n",
    "    print(f\"MAE:  {str(round(mae_s, 2))}  \\t\\t MAE: {str(round(mae_g, 2))} \\t\\t MAE: {str(round(mae_gl, 2))}\")\n",
    "    print(f\"MAPE: {str(round(mape_s, 2))} \\t\\t MAPE: {str(round(mape_g, 2))} \\t\\t MAPE {str(round(mape_gl, 2))}\")\n",
    "    print(f\"R^2:  {str(round(r2_s, 2))} \\t\\t R^2: {str(round(r2_g, 2))} \\t\\t R^2: {str(round(r2_gl, 2))}\")\n",
    "    \n",
    "    \n",
    "    plot_actual_v_pred(avg_flows, avg_flow_preds_sat, name='AAMT')"
   ]
  }
 ],
 "metadata": {
  "kernelspec": {
   "display_name": "Python 3 (ipykernel)",
   "language": "python",
   "name": "python3"
  },
  "language_info": {
   "codemirror_mode": {
    "name": "ipython",
    "version": 3
   },
   "file_extension": ".py",
   "mimetype": "text/x-python",
   "name": "python",
   "nbconvert_exporter": "python",
   "pygments_lexer": "ipython3",
   "version": "3.10.5"
  }
 },
 "nbformat": 4,
 "nbformat_minor": 5
}
